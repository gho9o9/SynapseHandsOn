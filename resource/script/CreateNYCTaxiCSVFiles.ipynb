{
  "cells": [
    {
      "cell_type": "code",
      "source": [
        "%%pyspark\r\n",
        "\r\n",
        "from azureml.opendatasets import NycTlcYellow\r\n",
        "\r\n",
        "from datetime import datetime\r\n",
        "import calendar\r\n",
        "\r\n",
        "account_name = \"<Storage アカウント名>\"\r\n",
        "container_name = \"<Storage コンテナ名>\"\r\n",
        "account_key = \"<Storage アカウントキー>\"\r\n",
        "spark.conf.set(\"fs.azure.account.key.%s.blob.core.windows.net\" %account_name ,account_key)\r\n",
        "\r\n",
        "for i in range(1, 7):\r\n",
        "    dt = datetime(2019, i, 1)\r\n",
        "    filepath = \"wasbs://%s@%s.blob.core.windows.net/source/nyctaxidata/year=%s/month=%s/\" %(container_name, account_name, dt.strftime(\"%Y\"), dt.strftime(\"%m\"))\r\n",
        "    start_date = dt.replace(day=1)\r\n",
        "    end_date = dt.replace(day=calendar.monthrange(dt.year, dt.month)[1])\r\n",
        "    \r\n",
        "    nyc_tlc = NycTlcYellow(start_date=start_date, end_date=end_date)\r\n",
        "    nyc_tlc_df = nyc_tlc.to_spark_dataframe()\r\n",
        "    \r\n",
        "    nyc_tlc_df.coalesce(1).write.mode(\"overwrite\").option(\"header\", \"True\").csv(filepath)\r\n",
        "\r\n",
        "    files = mssparkutils.fs.ls(filepath)\r\n",
        "    for file in files:\r\n",
        "        if file.name.endswith(\".csv\"):\r\n",
        "            mssparkutils.fs.mv(filepath + file.name, filepath + dt.strftime(\"%Y_%m\") + \"_NycTlcYellow.csv\")"
      ],
      "outputs": [],
      "execution_count": 33,
      "metadata": {
        "jupyter": {
          "source_hidden": false,
          "outputs_hidden": false
        },
        "nteract": {
          "transient": {
            "deleting": false
          }
        },
        "microsoft": {
          "language": "python"
        }
      }
    }
  ],
  "metadata": {
    "kernelspec": {
      "name": "synapse_pyspark",
      "display_name": "Synapse PySpark"
    },
    "language_info": {
      "name": "python"
    },
    "save_output": true,
    "synapse_widget": {
      "version": "0.1",
      "state": {}
    }
  },
  "nbformat": 4,
  "nbformat_minor": 2
}