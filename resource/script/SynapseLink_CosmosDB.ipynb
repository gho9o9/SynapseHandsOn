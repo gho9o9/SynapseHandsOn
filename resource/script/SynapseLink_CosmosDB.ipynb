{
  "cells": [
    {
      "cell_type": "markdown",
      "metadata": {
        "nteract": {
          "transient": {
            "deleting": false
          }
        }
      },
      "source": [
        "# トランザクションデータをリアルタイムに分析する（HTAP） \n"
      ]
    },
    {
      "cell_type": "markdown",
      "metadata": {
        "nteract": {
          "transient": {
            "deleting": false
          }
        }
      },
      "source": [
        "## 1. シンプルなデータ探索\n",
        "ここでは Synapse Link を有効化した Cosmos DB の分析コンテナを DataFrame にロードして簡単な探索を行ってみます。"
      ]
    },
    {
      "cell_type": "markdown",
      "metadata": {
        "nteract": {
          "transient": {
            "deleting": false
          }
        }
      },
      "source": [
        "### 1-1. データロード\n",
        "format に cosmos.olap を指定することが分析コンテナへのアクセスを表します。cosmos.oltp を指定することで分析ストアの元データであるトランザクションストアへのアクセスも可能です。  \n",
        "option の spark.synapse.linkedService は作成したリンクサービス名を指定します。"
      ]
    },
    {
      "cell_type": "code",
      "execution_count": 1,
      "metadata": {
        "microsoft": {
          "language": "python"
        }
      },
      "outputs": [
        {
          "data": {
            "application/vnd.livy.statement-meta+json": {
              "execution_finish_time": "2022-03-27T00:01:22.6322116Z",
              "execution_start_time": "2022-03-27T00:00:59.6566438Z",
              "livy_statement_state": "available",
              "queued_time": "2022-03-26T23:58:27.1286627Z",
              "session_id": 0,
              "session_start_time": "2022-03-26T23:58:27.1712268Z",
              "spark_pool": "spark31",
              "state": "finished",
              "statement_id": 1
            },
            "text/plain": [
              "StatementMeta(spark31, 0, 1, Finished, Available)"
            ]
          },
          "metadata": {},
          "output_type": "display_data"
        }
      ],
      "source": [
        "%%pyspark\n",
        "\n",
        "dfCustomer = spark.read\\\n",
        "    .format(\"cosmos.olap\")\\\n",
        "    .option(\"spark.synapse.linkedService\", \"<Azure Cosmos DB リンクサービス名>\")\\\n",
        "    .option(\"spark.cosmos.container\", \"Customer\")\\\n",
        "    .load()\n",
        "\n",
        "dfSalesOrder = spark.read\\\n",
        "    .format(\"cosmos.olap\")\\\n",
        "    .option(\"spark.synapse.linkedService\", \"<Azure Cosmos DB リンクサービス名>\")\\\n",
        "    .option(\"spark.cosmos.container\", \"SalesOrder\")\\\n",
        "    .load()"
      ]
    },
    {
      "cell_type": "markdown",
      "metadata": {
        "nteract": {
          "transient": {
            "deleting": false
          }
        }
      },
      "source": [
        "### 1-2. DataFrame のクレンジング\n",
        "分析ストア内のシステム属性を削除します。"
      ]
    },
    {
      "cell_type": "code",
      "execution_count": 2,
      "metadata": {
        "jupyter": {
          "outputs_hidden": false,
          "source_hidden": false
        },
        "microsoft": {
          "language": "python"
        },
        "nteract": {
          "transient": {
            "deleting": false
          }
        }
      },
      "outputs": [
        {
          "data": {
            "application/vnd.livy.statement-meta+json": {
              "execution_finish_time": "2022-03-27T00:01:58.1998166Z",
              "execution_start_time": "2022-03-27T00:01:58.0260067Z",
              "livy_statement_state": "available",
              "queued_time": "2022-03-27T00:01:57.9132702Z",
              "session_id": 0,
              "session_start_time": null,
              "spark_pool": "spark31",
              "state": "finished",
              "statement_id": 2
            },
            "text/plain": [
              "StatementMeta(spark31, 0, 2, Finished, Available)"
            ]
          },
          "metadata": {},
          "output_type": "display_data"
        },
        {
          "name": "stdout",
          "output_type": "stream",
          "text": [
            "root\n",
            " |-- _rid: string (nullable = true)\n",
            " |-- _ts: long (nullable = true)\n",
            " |-- id: string (nullable = true)\n",
            " |-- title: string (nullable = true)\n",
            " |-- firstName: string (nullable = true)\n",
            " |-- lastName: string (nullable = true)\n",
            " |-- emailAddress: string (nullable = true)\n",
            " |-- phoneNumber: string (nullable = true)\n",
            " |-- creationDate: string (nullable = true)\n",
            " |-- addresses: array (nullable = true)\n",
            " |    |-- element: struct (containsNull = true)\n",
            " |    |    |-- addressLine1: string (nullable = true)\n",
            " |    |    |-- addressLine2: string (nullable = true)\n",
            " |    |    |-- city: string (nullable = true)\n",
            " |    |    |-- state: string (nullable = true)\n",
            " |    |    |-- country: string (nullable = true)\n",
            " |    |    |-- zipCode: string (nullable = true)\n",
            " |-- password: struct (nullable = true)\n",
            " |    |-- hash: string (nullable = true)\n",
            " |    |-- salt: string (nullable = true)\n",
            " |-- _etag: string (nullable = true)"
          ]
        }
      ],
      "source": [
        "%%pyspark\n",
        "\n",
        "dfCustomer.printSchema()"
      ]
    },
    {
      "cell_type": "code",
      "execution_count": 3,
      "metadata": {
        "collapsed": false,
        "jupyter": {
          "outputs_hidden": false,
          "source_hidden": false
        },
        "microsoft": {
          "language": "python"
        },
        "nteract": {
          "transient": {
            "deleting": false
          }
        }
      },
      "outputs": [
        {
          "data": {
            "application/vnd.livy.statement-meta+json": {
              "execution_finish_time": "2022-03-27T00:03:13.6588779Z",
              "execution_start_time": "2022-03-27T00:03:06.7878294Z",
              "livy_statement_state": "available",
              "queued_time": "2022-03-27T00:03:06.6673735Z",
              "session_id": 0,
              "session_start_time": null,
              "spark_pool": "spark31",
              "state": "finished",
              "statement_id": 3
            },
            "text/plain": [
              "StatementMeta(spark31, 0, 3, Finished, Available)"
            ]
          },
          "metadata": {},
          "output_type": "display_data"
        },
        {
          "data": {
            "application/vnd.synapse.widget-view+json": {
              "widget_id": "cd5f2f5b-3cbc-4d52-8622-af9d76318c7d",
              "widget_type": "Synapse.DataFrame"
            },
            "text/plain": [
              "SynapseWidget(Synapse.DataFrame, cd5f2f5b-3cbc-4d52-8622-af9d76318c7d)"
            ]
          },
          "metadata": {},
          "output_type": "display_data"
        }
      ],
      "source": [
        "%%pyspark\n",
        "\n",
        "display(dfCustomer.limit(10))"
      ]
    },
    {
      "cell_type": "code",
      "execution_count": 4,
      "metadata": {
        "collapsed": false,
        "jupyter": {
          "outputs_hidden": false,
          "source_hidden": false
        },
        "microsoft": {
          "language": "python"
        },
        "nteract": {
          "transient": {
            "deleting": false
          }
        }
      },
      "outputs": [
        {
          "data": {
            "application/vnd.livy.statement-meta+json": {
              "execution_finish_time": "2022-03-27T00:03:19.8035212Z",
              "execution_start_time": "2022-03-27T00:03:16.9712564Z",
              "livy_statement_state": "available",
              "queued_time": "2022-03-27T00:03:16.8705963Z",
              "session_id": 0,
              "session_start_time": null,
              "spark_pool": "spark31",
              "state": "finished",
              "statement_id": 4
            },
            "text/plain": [
              "StatementMeta(spark31, 0, 4, Finished, Available)"
            ]
          },
          "metadata": {},
          "output_type": "display_data"
        },
        {
          "data": {
            "application/vnd.synapse.widget-view+json": {
              "widget_id": "407a74b1-f79f-4ca9-ab7c-7080be8a06c6",
              "widget_type": "Synapse.DataFrame"
            },
            "text/plain": [
              "SynapseWidget(Synapse.DataFrame, 407a74b1-f79f-4ca9-ab7c-7080be8a06c6)"
            ]
          },
          "metadata": {},
          "output_type": "display_data"
        }
      ],
      "source": [
        "%%pyspark\n",
        "\n",
        "system_document_properties = {'_attachments','_etag','_rid','_self','_ts'}\n",
        "customer_columns = list(set(dfCustomer.columns) - system_document_properties)\n",
        "dfCustomer = dfCustomer.select(customer_columns)\n",
        "\n",
        "display(dfCustomer.limit(10))"
      ]
    },
    {
      "cell_type": "code",
      "execution_count": 5,
      "metadata": {
        "jupyter": {
          "outputs_hidden": false,
          "source_hidden": false
        },
        "microsoft": {
          "language": "python"
        },
        "nteract": {
          "transient": {
            "deleting": false
          }
        }
      },
      "outputs": [],
      "source": [
        "%%pyspark\n",
        "\n",
        "dfSalesOrder.printSchema()"
      ]
    },
    {
      "cell_type": "code",
      "execution_count": 6,
      "metadata": {
        "collapsed": false,
        "jupyter": {
          "outputs_hidden": false,
          "source_hidden": false
        },
        "microsoft": {
          "language": "python"
        },
        "nteract": {
          "transient": {
            "deleting": false
          }
        }
      },
      "outputs": [],
      "source": [
        "%%pyspark\n",
        "\n",
        "display(dfSalesOrder.limit(10))"
      ]
    },
    {
      "cell_type": "code",
      "execution_count": 5,
      "metadata": {
        "collapsed": false,
        "jupyter": {
          "outputs_hidden": false,
          "source_hidden": false
        },
        "microsoft": {
          "language": "python"
        },
        "nteract": {
          "transient": {
            "deleting": false
          }
        }
      },
      "outputs": [
        {
          "data": {
            "application/vnd.livy.statement-meta+json": {
              "execution_finish_time": "2022-03-27T00:03:31.5930888Z",
              "execution_start_time": "2022-03-27T00:03:22.9769047Z",
              "livy_statement_state": "available",
              "queued_time": "2022-03-27T00:03:22.8609691Z",
              "session_id": 0,
              "session_start_time": null,
              "spark_pool": "spark31",
              "state": "finished",
              "statement_id": 5
            },
            "text/plain": [
              "StatementMeta(spark31, 0, 5, Finished, Available)"
            ]
          },
          "metadata": {},
          "output_type": "display_data"
        },
        {
          "data": {
            "application/vnd.synapse.widget-view+json": {
              "widget_id": "dcd71fa7-6697-4c70-a5ad-5767f4d39ec1",
              "widget_type": "Synapse.DataFrame"
            },
            "text/plain": [
              "SynapseWidget(Synapse.DataFrame, dcd71fa7-6697-4c70-a5ad-5767f4d39ec1)"
            ]
          },
          "metadata": {},
          "output_type": "display_data"
        }
      ],
      "source": [
        "%%pyspark\n",
        "\n",
        "system_document_properties = {'_attachments','_etag','_rid','_self','_ts'}\n",
        "salesorder_columns = list(set(dfSalesOrder.columns) - system_document_properties)\n",
        "dfSalesOrder = dfSalesOrder.select(salesorder_columns)\n",
        "\n",
        "display(dfSalesOrder.limit(10))"
      ]
    },
    {
      "cell_type": "markdown",
      "metadata": {
        "nteract": {
          "transient": {
            "deleting": false
          }
        }
      },
      "source": [
        "## 1-3. 簡単な集計\n",
        "DataFrame API と SparkSQL による簡単な集計を行います。"
      ]
    },
    {
      "cell_type": "code",
      "execution_count": 6,
      "metadata": {
        "jupyter": {
          "outputs_hidden": false,
          "source_hidden": false
        },
        "microsoft": {
          "language": "python"
        },
        "nteract": {
          "transient": {
            "deleting": false
          }
        }
      },
      "outputs": [
        {
          "data": {
            "application/vnd.livy.statement-meta+json": {
              "execution_finish_time": "2022-03-27T00:03:33.9969464Z",
              "execution_start_time": "2022-03-27T00:03:33.497189Z",
              "livy_statement_state": "available",
              "queued_time": "2022-03-27T00:03:33.398328Z",
              "session_id": 0,
              "session_start_time": null,
              "spark_pool": "spark31",
              "state": "finished",
              "statement_id": 6
            },
            "text/plain": [
              "StatementMeta(spark31, 0, 6, Finished, Available)"
            ]
          },
          "metadata": {},
          "output_type": "display_data"
        },
        {
          "name": "stdout",
          "output_type": "stream",
          "text": [
            "19119"
          ]
        }
      ],
      "source": [
        "%%pyspark\n",
        "\n",
        "print(dfCustomer.count())"
      ]
    },
    {
      "cell_type": "code",
      "execution_count": 7,
      "metadata": {
        "collapsed": false,
        "jupyter": {
          "outputs_hidden": false,
          "source_hidden": false
        },
        "microsoft": {
          "language": "python"
        },
        "nteract": {
          "transient": {
            "deleting": false
          }
        }
      },
      "outputs": [
        {
          "data": {
            "application/vnd.livy.statement-meta+json": {
              "execution_finish_time": "2022-03-27T00:03:37.3566729Z",
              "execution_start_time": "2022-03-27T00:03:35.548794Z",
              "livy_statement_state": "available",
              "queued_time": "2022-03-27T00:03:35.4434744Z",
              "session_id": 0,
              "session_start_time": null,
              "spark_pool": "spark31",
              "state": "finished",
              "statement_id": 7
            },
            "text/plain": [
              "StatementMeta(spark31, 0, 7, Finished, Available)"
            ]
          },
          "metadata": {},
          "output_type": "display_data"
        },
        {
          "data": {
            "application/vnd.synapse.widget-view+json": {
              "widget_id": "354e6cd9-4d57-4890-b58b-00f522e7aaba",
              "widget_type": "Synapse.DataFrame"
            },
            "text/plain": [
              "SynapseWidget(Synapse.DataFrame, 354e6cd9-4d57-4890-b58b-00f522e7aaba)"
            ]
          },
          "metadata": {},
          "output_type": "display_data"
        }
      ],
      "source": [
        "%%pyspark\n",
        "\n",
        "# 国ごと都市ごとの顧客数\n",
        "display(dfCustomer.groupBy(\"addresses.country\",\"addresses.city\").count().orderBy(\"count\",  ascending=False).limit(10))"
      ]
    },
    {
      "cell_type": "code",
      "execution_count": 8,
      "metadata": {
        "collapsed": false,
        "jupyter": {
          "outputs_hidden": false,
          "source_hidden": false
        },
        "microsoft": {
          "language": "python"
        },
        "nteract": {
          "transient": {
            "deleting": false
          }
        }
      },
      "outputs": [
        {
          "data": {
            "application/vnd.livy.statement-meta+json": {
              "execution_finish_time": "2022-03-27T00:03:48.2312471Z",
              "execution_start_time": "2022-03-27T00:03:48.0831572Z",
              "livy_statement_state": "available",
              "queued_time": "2022-03-27T00:03:47.9784062Z",
              "session_id": 0,
              "session_start_time": null,
              "spark_pool": "spark31",
              "state": "finished",
              "statement_id": 8
            },
            "text/plain": [
              "StatementMeta(spark31, 0, 8, Finished, Available)"
            ]
          },
          "metadata": {},
          "output_type": "display_data"
        }
      ],
      "source": [
        "%%pyspark\n",
        "\n",
        "dfCustomer.createOrReplaceTempView(\"CustomerTempView\")"
      ]
    },
    {
      "cell_type": "code",
      "execution_count": 9,
      "metadata": {
        "collapsed": false,
        "jupyter": {
          "outputs_hidden": false,
          "source_hidden": false
        },
        "microsoft": {
          "language": "sparksql"
        },
        "nteract": {
          "transient": {
            "deleting": false
          }
        }
      },
      "outputs": [
        {
          "data": {
            "application/vnd.livy.statement-meta+json": {
              "execution_finish_time": "2022-03-27T00:03:52.3838514Z",
              "execution_start_time": "2022-03-27T00:03:50.5790775Z",
              "livy_statement_state": "available",
              "queued_time": "2022-03-27T00:03:50.4763135Z",
              "session_id": 0,
              "session_start_time": null,
              "spark_pool": "spark31",
              "state": "finished",
              "statement_id": 9
            },
            "text/plain": [
              "StatementMeta(spark31, 0, 9, Finished, Available)"
            ]
          },
          "metadata": {},
          "output_type": "display_data"
        },
        {
          "data": {
            "application/vnd.synapse.sparksql-result+json": {
              "data": [
                [
                  [],
                  [],
                  "635"
                ],
                [
                  [
                    "GB"
                  ],
                  [
                    "London"
                  ],
                  "420"
                ],
                [
                  [
                    "FR"
                  ],
                  [
                    "Paris"
                  ],
                  "386"
                ],
                [
                  [
                    "US"
                  ],
                  [
                    "Burien"
                  ],
                  "212"
                ],
                [
                  [
                    "US"
                  ],
                  [
                    "Concord"
                  ],
                  "212"
                ],
                [
                  [
                    "US"
                  ],
                  [
                    "Bellingham"
                  ],
                  "210"
                ],
                [
                  [
                    "US"
                  ],
                  [
                    "Beaverton"
                  ],
                  "210"
                ],
                [
                  [
                    "US"
                  ],
                  [
                    "Chula Vista"
                  ],
                  "206"
                ],
                [
                  [
                    "US"
                  ],
                  [
                    "Berkeley"
                  ],
                  "200"
                ],
                [
                  [
                    "US"
                  ],
                  [
                    "Burlingame"
                  ],
                  "198"
                ]
              ],
              "schema": {
                "fields": [
                  {
                    "metadata": {},
                    "name": "country",
                    "nullable": true,
                    "type": {
                      "containsNull": true,
                      "elementType": "string",
                      "type": "array"
                    }
                  },
                  {
                    "metadata": {},
                    "name": "city",
                    "nullable": true,
                    "type": {
                      "containsNull": true,
                      "elementType": "string",
                      "type": "array"
                    }
                  },
                  {
                    "metadata": {},
                    "name": "count",
                    "nullable": false,
                    "type": "long"
                  }
                ],
                "type": "struct"
              }
            },
            "text/plain": [
              "<Spark SQL result set with 10 rows and 3 fields>"
            ]
          },
          "execution_count": 9,
          "metadata": {},
          "output_type": "execute_result"
        }
      ],
      "source": [
        "%%sql\n",
        "\n",
        "-- 国ごと都市ごとの顧客数\n",
        "SELECT addresses.country, addresses.city, count(*) as count FROM CustomerTempView Group By addresses.country,addresses.city order by count desc LIMIT 10"
      ]
    },
    {
      "cell_type": "markdown",
      "metadata": {
        "nteract": {
          "transient": {
            "deleting": false
          }
        }
      },
      "source": [
        "## 2. クロスコンテナー結合を活用した分析\n",
        "ここでは SQL（Spark SQL）を使って分析を行ってみます。"
      ]
    },
    {
      "cell_type": "markdown",
      "metadata": {
        "nteract": {
          "transient": {
            "deleting": false
          }
        }
      },
      "source": [
        "### 2-1. データベースの作成と外部テーブルの作成\n",
        "SparkSQL による分析に備えて Cosmos DB の分析ストアを参照する外部テーブルを定義します。\n",
        "USING に cosmos.olap を指定することが分析コンテナへのアクセスを表します。なお、cosmos.oltp を指定したオブジェクトは作成することができますが機能しません。  "
      ]
    },
    {
      "cell_type": "code",
      "execution_count": 10,
      "metadata": {
        "collapsed": false,
        "jupyter": {
          "outputs_hidden": false,
          "source_hidden": false
        },
        "microsoft": {
          "language": "sparksql"
        },
        "nteract": {
          "transient": {
            "deleting": false
          }
        }
      },
      "outputs": [
        {
          "data": {
            "application/vnd.livy.statement-meta+json": {
              "execution_finish_time": "2022-03-27T00:07:55.7699037Z",
              "execution_start_time": "2022-03-27T00:07:45.1950943Z",
              "livy_statement_state": "available",
              "queued_time": "2022-03-27T00:07:44.924425Z",
              "session_id": 0,
              "session_start_time": null,
              "spark_pool": "spark31",
              "state": "finished",
              "statement_id": 10
            },
            "text/plain": [
              "StatementMeta(spark31, 0, 10, Finished, Available)"
            ]
          },
          "metadata": {},
          "output_type": "display_data"
        },
        {
          "data": {
            "application/vnd.synapse.sparksql-result+json": {
              "data": [],
              "schema": {
                "fields": [],
                "type": "struct"
              }
            },
            "text/plain": [
              "<Spark SQL result set with 0 rows and 0 fields>"
            ]
          },
          "execution_count": 10,
          "metadata": {},
          "output_type": "execute_result"
        }
      ],
      "source": [
        "%%sql\n",
        "\n",
        "CREATE DATABASE AdventureWorks"
      ]
    },
    {
      "cell_type": "code",
      "execution_count": 16,
      "metadata": {
        "collapsed": false,
        "jupyter": {
          "outputs_hidden": false,
          "source_hidden": false
        },
        "microsoft": {
          "language": "sparksql"
        },
        "nteract": {
          "transient": {
            "deleting": false
          }
        }
      },
      "outputs": [
        {
          "data": {
            "application/vnd.livy.statement-meta+json": {
              "execution_finish_time": "2022-03-27T00:11:29.391607Z",
              "execution_start_time": "2022-03-27T00:11:27.4233358Z",
              "livy_statement_state": "available",
              "queued_time": "2022-03-27T00:11:27.3100978Z",
              "session_id": 0,
              "session_start_time": null,
              "spark_pool": "spark31",
              "state": "finished",
              "statement_id": 17
            },
            "text/plain": [
              "StatementMeta(spark31, 0, 17, Finished, Available)"
            ]
          },
          "metadata": {},
          "output_type": "display_data"
        },
        {
          "data": {
            "application/vnd.synapse.sparksql-result+json": {
              "data": [],
              "schema": {
                "fields": [],
                "type": "struct"
              }
            },
            "text/plain": [
              "<Spark SQL result set with 0 rows and 0 fields>"
            ]
          },
          "execution_count": 16,
          "metadata": {},
          "output_type": "execute_result"
        }
      ],
      "source": [
        "%%sql\n",
        "\n",
        "CREATE TABLE AdventureWorks.Customers USING cosmos.olap OPTIONS (\n",
        "    spark.synapse.linkedService '<Azure Cosmos DB リンクサービス名>',\n",
        "    spark.cosmos.container 'Customer'\n",
        ")"
      ]
    },
    {
      "cell_type": "code",
      "execution_count": 17,
      "metadata": {
        "collapsed": false,
        "jupyter": {
          "outputs_hidden": false,
          "source_hidden": false
        },
        "microsoft": {
          "language": "sparksql"
        },
        "nteract": {
          "transient": {
            "deleting": false
          }
        }
      },
      "outputs": [
        {
          "data": {
            "application/vnd.livy.statement-meta+json": {
              "execution_finish_time": "2022-03-27T00:11:32.7828076Z",
              "execution_start_time": "2022-03-27T00:11:30.973079Z",
              "livy_statement_state": "available",
              "queued_time": "2022-03-27T00:11:30.850265Z",
              "session_id": 0,
              "session_start_time": null,
              "spark_pool": "spark31",
              "state": "finished",
              "statement_id": 18
            },
            "text/plain": [
              "StatementMeta(spark31, 0, 18, Finished, Available)"
            ]
          },
          "metadata": {},
          "output_type": "display_data"
        },
        {
          "data": {
            "application/vnd.synapse.sparksql-result+json": {
              "data": [],
              "schema": {
                "fields": [],
                "type": "struct"
              }
            },
            "text/plain": [
              "<Spark SQL result set with 0 rows and 0 fields>"
            ]
          },
          "execution_count": 17,
          "metadata": {},
          "output_type": "execute_result"
        }
      ],
      "source": [
        "%%sql\n",
        "\n",
        "CREATE TABLE AdventureWorks.SalesOrders USING cosmos.olap OPTIONS (\n",
        "    spark.synapse.linkedService '<Azure Cosmos DB リンクサービス名>',\n",
        "    spark.cosmos.container 'SalesOrder'\n",
        ")"
      ]
    },
    {
      "cell_type": "markdown",
      "metadata": {
        "nteract": {
          "transient": {
            "deleting": false
          }
        }
      },
      "source": [
        "### 2-2. クロスコンテナー結合を活用した分析クエリを実行\n",
        "Cosmos DB 自体は OLTP に最適化されているため、クロスコンテナー結合はサポートされていませんが、分析ストアについては分析に最適化されたフォーマットに自動変換されておりクロスコンテナー結合が可能になります。  \n",
        "ここではクロスコンテナー結合を実行するビューを作成します。"
      ]
    },
    {
      "cell_type": "code",
      "execution_count": 18,
      "metadata": {
        "collapsed": false,
        "jupyter": {
          "outputs_hidden": false,
          "source_hidden": false
        },
        "microsoft": {
          "language": "sparksql"
        },
        "nteract": {
          "transient": {
            "deleting": false
          }
        }
      },
      "outputs": [
        {
          "data": {
            "application/vnd.livy.statement-meta+json": {
              "execution_finish_time": "2022-03-27T00:11:39.5674431Z",
              "execution_start_time": "2022-03-27T00:11:35.4290662Z",
              "livy_statement_state": "available",
              "queued_time": "2022-03-27T00:11:35.314311Z",
              "session_id": 0,
              "session_start_time": null,
              "spark_pool": "spark31",
              "state": "finished",
              "statement_id": 19
            },
            "text/plain": [
              "StatementMeta(spark31, 0, 19, Finished, Available)"
            ]
          },
          "metadata": {},
          "output_type": "display_data"
        },
        {
          "data": {
            "application/vnd.synapse.sparksql-result+json": {
              "data": [],
              "schema": {
                "fields": [],
                "type": "struct"
              }
            },
            "text/plain": [
              "<Spark SQL result set with 0 rows and 0 fields>"
            ]
          },
          "execution_count": 18,
          "metadata": {},
          "output_type": "execute_result"
        }
      ],
      "source": [
        "%%sql\n",
        "\n",
        "CREATE OR REPLACE VIEW AdventureWorks.SalesOrderView\n",
        "AS\n",
        "SELECT s.id as SalesOrderId, \n",
        "        c.id AS CustomerId, c.addresses.country AS Country, c.addresses.city AS City, \n",
        "        to_date(s.orderdate) AS OrderDate, to_date(s.shipdate) AS ShipDate\n",
        "    FROM AdventureWorks.Customers c \n",
        "    INNER JOIN AdventureWorks.SalesOrders s\n",
        "        ON c.id = s.CustomerId"
      ]
    },
    {
      "cell_type": "code",
      "execution_count": 19,
      "metadata": {
        "collapsed": false,
        "jupyter": {
          "outputs_hidden": false,
          "source_hidden": false
        },
        "microsoft": {
          "language": "sparksql"
        },
        "nteract": {
          "transient": {
            "deleting": false
          }
        }
      },
      "outputs": [
        {
          "data": {
            "application/vnd.livy.statement-meta+json": {
              "execution_finish_time": "2022-03-27T00:12:18.3096384Z",
              "execution_start_time": "2022-03-27T00:11:58.6525288Z",
              "livy_statement_state": "available",
              "queued_time": "2022-03-27T00:11:58.5315Z",
              "session_id": 0,
              "session_start_time": null,
              "spark_pool": "spark31",
              "state": "finished",
              "statement_id": 20
            },
            "text/plain": [
              "StatementMeta(spark31, 0, 20, Finished, Available)"
            ]
          },
          "metadata": {},
          "output_type": "display_data"
        },
        {
          "data": {
            "application/vnd.synapse.sparksql-result+json": {
              "data": [
                [
                  [],
                  [],
                  "3806"
                ],
                [
                  [
                    "GB"
                  ],
                  [
                    "London"
                  ],
                  "686"
                ],
                [
                  [
                    "FR"
                  ],
                  [
                    "Paris"
                  ],
                  "522"
                ],
                [
                  [
                    "CA"
                  ],
                  [
                    "Cliffside"
                  ],
                  "414"
                ],
                [
                  [
                    "US"
                  ],
                  [
                    "Burien"
                  ],
                  "259"
                ],
                [
                  [
                    "US"
                  ],
                  [
                    "Concord"
                  ],
                  "253"
                ],
                [
                  [
                    "US"
                  ],
                  [
                    "Chula Vista"
                  ],
                  "252"
                ],
                [
                  [
                    "US"
                  ],
                  [
                    "Bellingham"
                  ],
                  "251"
                ],
                [
                  [
                    "DE"
                  ],
                  [
                    "Berlin"
                  ],
                  "251"
                ],
                [
                  [
                    "US"
                  ],
                  [
                    "Beaverton"
                  ],
                  "246"
                ]
              ],
              "schema": {
                "fields": [
                  {
                    "metadata": {},
                    "name": "Country",
                    "nullable": true,
                    "type": {
                      "containsNull": true,
                      "elementType": "string",
                      "type": "array"
                    }
                  },
                  {
                    "metadata": {},
                    "name": "City",
                    "nullable": true,
                    "type": {
                      "containsNull": true,
                      "elementType": "string",
                      "type": "array"
                    }
                  },
                  {
                    "metadata": {},
                    "name": "Total_Orders",
                    "nullable": false,
                    "type": "long"
                  }
                ],
                "type": "struct"
              }
            },
            "text/plain": [
              "<Spark SQL result set with 10 rows and 3 fields>"
            ]
          },
          "execution_count": 19,
          "metadata": {},
          "output_type": "execute_result"
        }
      ],
      "source": [
        "%%sql\n",
        "\n",
        "-- 国ごと都市ごとの販売注文数\n",
        "SELECT Country, City, Count(*) AS Total_Orders\n",
        "    FROM AdventureWorks.SalesOrderView\n",
        "    GROUP BY Country, City \n",
        "ORDER BY Total_Orders DESC\n",
        "LIMIT 10"
      ]
    },
    {
      "cell_type": "code",
      "execution_count": 20,
      "metadata": {
        "collapsed": false,
        "jupyter": {
          "outputs_hidden": false,
          "source_hidden": false
        },
        "microsoft": {
          "language": "sparksql"
        },
        "nteract": {
          "transient": {
            "deleting": false
          }
        }
      },
      "outputs": [
        {
          "data": {
            "application/vnd.livy.statement-meta+json": {
              "execution_finish_time": "2022-03-27T00:12:31.6155895Z",
              "execution_start_time": "2022-03-27T00:12:26.3177326Z",
              "livy_statement_state": "available",
              "queued_time": "2022-03-27T00:12:26.2009435Z",
              "session_id": 0,
              "session_start_time": null,
              "spark_pool": "spark31",
              "state": "finished",
              "statement_id": 21
            },
            "text/plain": [
              "StatementMeta(spark31, 0, 21, Finished, Available)"
            ]
          },
          "metadata": {},
          "output_type": "display_data"
        },
        {
          "data": {
            "application/vnd.synapse.sparksql-result+json": {
              "data": [
                [
                  "6E13D489-584B-4B1F-AEB7-C4DF5F37F013",
                  [
                    {
                      "schema": [
                        {
                          "dataType": {},
                          "metadata": {
                            "map": {}
                          },
                          "name": "sku",
                          "nullable": true
                        },
                        {
                          "dataType": {},
                          "metadata": {
                            "map": {}
                          },
                          "name": "name",
                          "nullable": true
                        },
                        {
                          "dataType": {},
                          "metadata": {
                            "map": {}
                          },
                          "name": "price",
                          "nullable": true
                        },
                        {
                          "dataType": {},
                          "metadata": {
                            "map": {}
                          },
                          "name": "quantity",
                          "nullable": true
                        }
                      ],
                      "values": [
                        "BK-M68S-46",
                        "Mountain-200 Silver, 46",
                        2071.4196,
                        "1"
                      ]
                    }
                  ]
                ],
                [
                  "6D2B37AE-7839-44F4-8FB6-D7F2D19A7610",
                  [
                    {
                      "schema": [
                        {
                          "dataType": {},
                          "metadata": {
                            "map": {}
                          },
                          "name": "sku",
                          "nullable": true
                        },
                        {
                          "dataType": {},
                          "metadata": {
                            "map": {}
                          },
                          "name": "name",
                          "nullable": true
                        },
                        {
                          "dataType": {},
                          "metadata": {
                            "map": {}
                          },
                          "name": "price",
                          "nullable": true
                        },
                        {
                          "dataType": {},
                          "metadata": {
                            "map": {}
                          },
                          "name": "quantity",
                          "nullable": true
                        }
                      ],
                      "values": [
                        "WB-H098",
                        "Water Bottle - 30 oz.",
                        4.99,
                        "1"
                      ]
                    },
                    {
                      "schema": [
                        {
                          "dataType": {},
                          "metadata": {
                            "map": {}
                          },
                          "name": "sku",
                          "nullable": true
                        },
                        {
                          "dataType": {},
                          "metadata": {
                            "map": {}
                          },
                          "name": "name",
                          "nullable": true
                        },
                        {
                          "dataType": {},
                          "metadata": {
                            "map": {}
                          },
                          "name": "price",
                          "nullable": true
                        },
                        {
                          "dataType": {},
                          "metadata": {
                            "map": {}
                          },
                          "name": "quantity",
                          "nullable": true
                        }
                      ],
                      "values": [
                        "PK-7098",
                        "Patch Kit/8 Patches",
                        2.29,
                        "1"
                      ]
                    },
                    {
                      "schema": [
                        {
                          "dataType": {},
                          "metadata": {
                            "map": {}
                          },
                          "name": "sku",
                          "nullable": true
                        },
                        {
                          "dataType": {},
                          "metadata": {
                            "map": {}
                          },
                          "name": "name",
                          "nullable": true
                        },
                        {
                          "dataType": {},
                          "metadata": {
                            "map": {}
                          },
                          "name": "price",
                          "nullable": true
                        },
                        {
                          "dataType": {},
                          "metadata": {
                            "map": {}
                          },
                          "name": "quantity",
                          "nullable": true
                        }
                      ],
                      "values": [
                        "BC-M005",
                        "Mountain Bottle Cage",
                        9.99,
                        "1"
                      ]
                    }
                  ]
                ],
                [
                  "6C434E75-3968-4576-950D-93BD6FE55DAE",
                  [
                    {
                      "schema": [
                        {
                          "dataType": {},
                          "metadata": {
                            "map": {}
                          },
                          "name": "sku",
                          "nullable": true
                        },
                        {
                          "dataType": {},
                          "metadata": {
                            "map": {}
                          },
                          "name": "name",
                          "nullable": true
                        },
                        {
                          "dataType": {},
                          "metadata": {
                            "map": {}
                          },
                          "name": "price",
                          "nullable": true
                        },
                        {
                          "dataType": {},
                          "metadata": {
                            "map": {}
                          },
                          "name": "quantity",
                          "nullable": true
                        }
                      ],
                      "values": [
                        "BK-M82B-44",
                        "Mountain-100 Black, 44",
                        2024.994,
                        "3"
                      ]
                    },
                    {
                      "schema": [
                        {
                          "dataType": {},
                          "metadata": {
                            "map": {}
                          },
                          "name": "sku",
                          "nullable": true
                        },
                        {
                          "dataType": {},
                          "metadata": {
                            "map": {}
                          },
                          "name": "name",
                          "nullable": true
                        },
                        {
                          "dataType": {},
                          "metadata": {
                            "map": {}
                          },
                          "name": "price",
                          "nullable": true
                        },
                        {
                          "dataType": {},
                          "metadata": {
                            "map": {}
                          },
                          "name": "quantity",
                          "nullable": true
                        }
                      ],
                      "values": [
                        "BK-M82B-48",
                        "Mountain-100 Black, 48",
                        2024.994,
                        "1"
                      ]
                    },
                    {
                      "schema": [
                        {
                          "dataType": {},
                          "metadata": {
                            "map": {}
                          },
                          "name": "sku",
                          "nullable": true
                        },
                        {
                          "dataType": {},
                          "metadata": {
                            "map": {}
                          },
                          "name": "name",
                          "nullable": true
                        },
                        {
                          "dataType": {},
                          "metadata": {
                            "map": {}
                          },
                          "name": "price",
                          "nullable": true
                        },
                        {
                          "dataType": {},
                          "metadata": {
                            "map": {}
                          },
                          "name": "quantity",
                          "nullable": true
                        }
                      ],
                      "values": [
                        "BK-M82B-38",
                        "Mountain-100 Black, 38",
                        2024.994,
                        "4"
                      ]
                    },
                    {
                      "schema": [
                        {
                          "dataType": {},
                          "metadata": {
                            "map": {}
                          },
                          "name": "sku",
                          "nullable": true
                        },
                        {
                          "dataType": {},
                          "metadata": {
                            "map": {}
                          },
                          "name": "name",
                          "nullable": true
                        },
                        {
                          "dataType": {},
                          "metadata": {
                            "map": {}
                          },
                          "name": "price",
                          "nullable": true
                        },
                        {
                          "dataType": {},
                          "metadata": {
                            "map": {}
                          },
                          "name": "quantity",
                          "nullable": true
                        }
                      ],
                      "values": [
                        "BK-M82B-42",
                        "Mountain-100 Black, 42",
                        2024.994,
                        "2"
                      ]
                    }
                  ]
                ],
                [
                  "6B937EF7-EA07-4F72-B40C-D866313E5219",
                  [
                    {
                      "schema": [
                        {
                          "dataType": {},
                          "metadata": {
                            "map": {}
                          },
                          "name": "sku",
                          "nullable": true
                        },
                        {
                          "dataType": {},
                          "metadata": {
                            "map": {}
                          },
                          "name": "name",
                          "nullable": true
                        },
                        {
                          "dataType": {},
                          "metadata": {
                            "map": {}
                          },
                          "name": "price",
                          "nullable": true
                        },
                        {
                          "dataType": {},
                          "metadata": {
                            "map": {}
                          },
                          "name": "quantity",
                          "nullable": true
                        }
                      ],
                      "values": [
                        "BK-R89R-58",
                        "Road-250 Red, 58",
                        2181.5625,
                        "1"
                      ]
                    }
                  ]
                ],
                [
                  "6AEBAEEB-8B01-4CDD-8F21-6EB486AC8FF5",
                  [
                    {
                      "schema": [
                        {
                          "dataType": {},
                          "metadata": {
                            "map": {}
                          },
                          "name": "sku",
                          "nullable": true
                        },
                        {
                          "dataType": {},
                          "metadata": {
                            "map": {}
                          },
                          "name": "name",
                          "nullable": true
                        },
                        {
                          "dataType": {},
                          "metadata": {
                            "map": {}
                          },
                          "name": "price",
                          "nullable": true
                        },
                        {
                          "dataType": {},
                          "metadata": {
                            "map": {}
                          },
                          "name": "quantity",
                          "nullable": true
                        }
                      ],
                      "values": [
                        "BK-M68B-46",
                        "Mountain-200 Black, 46",
                        2049.0982,
                        "1"
                      ]
                    }
                  ]
                ],
                [
                  "6A634615-E063-469A-872D-053225B9C928",
                  [
                    {
                      "schema": [
                        {
                          "dataType": {},
                          "metadata": {
                            "map": {}
                          },
                          "name": "sku",
                          "nullable": true
                        },
                        {
                          "dataType": {},
                          "metadata": {
                            "map": {}
                          },
                          "name": "name",
                          "nullable": true
                        },
                        {
                          "dataType": {},
                          "metadata": {
                            "map": {}
                          },
                          "name": "price",
                          "nullable": true
                        },
                        {
                          "dataType": {},
                          "metadata": {
                            "map": {}
                          },
                          "name": "quantity",
                          "nullable": true
                        }
                      ],
                      "values": [
                        "BK-R89R-48",
                        "Road-250 Red, 48",
                        2443.35,
                        "1"
                      ]
                    }
                  ]
                ],
                [
                  "69CB75A8-4F28-4142-A304-84DC99AFB826",
                  [
                    {
                      "schema": [
                        {
                          "dataType": {},
                          "metadata": {
                            "map": {}
                          },
                          "name": "sku",
                          "nullable": true
                        },
                        {
                          "dataType": {},
                          "metadata": {
                            "map": {}
                          },
                          "name": "name",
                          "nullable": true
                        },
                        {
                          "dataType": {},
                          "metadata": {
                            "map": {}
                          },
                          "name": "price",
                          "nullable": true
                        },
                        {
                          "dataType": {},
                          "metadata": {
                            "map": {}
                          },
                          "name": "quantity",
                          "nullable": true
                        }
                      ],
                      "values": [
                        "BK-T18Y-50",
                        "Touring-3000 Yellow, 50",
                        742.35,
                        "1"
                      ]
                    },
                    {
                      "schema": [
                        {
                          "dataType": {},
                          "metadata": {
                            "map": {}
                          },
                          "name": "sku",
                          "nullable": true
                        },
                        {
                          "dataType": {},
                          "metadata": {
                            "map": {}
                          },
                          "name": "name",
                          "nullable": true
                        },
                        {
                          "dataType": {},
                          "metadata": {
                            "map": {}
                          },
                          "name": "price",
                          "nullable": true
                        },
                        {
                          "dataType": {},
                          "metadata": {
                            "map": {}
                          },
                          "name": "quantity",
                          "nullable": true
                        }
                      ],
                      "values": [
                        "HL-U509-R",
                        "Sport-100 Helmet, Red",
                        34.99,
                        "1"
                      ]
                    }
                  ]
                ],
                [
                  "68F44387-65E2-48C1-A295-204F8AD2F0AB",
                  [
                    {
                      "schema": [
                        {
                          "dataType": {},
                          "metadata": {
                            "map": {}
                          },
                          "name": "sku",
                          "nullable": true
                        },
                        {
                          "dataType": {},
                          "metadata": {
                            "map": {}
                          },
                          "name": "name",
                          "nullable": true
                        },
                        {
                          "dataType": {},
                          "metadata": {
                            "map": {}
                          },
                          "name": "price",
                          "nullable": true
                        },
                        {
                          "dataType": {},
                          "metadata": {
                            "map": {}
                          },
                          "name": "quantity",
                          "nullable": true
                        }
                      ],
                      "values": [
                        "HL-U509-B",
                        "Sport-100 Helmet, Blue",
                        34.99,
                        "1"
                      ]
                    },
                    {
                      "schema": [
                        {
                          "dataType": {},
                          "metadata": {
                            "map": {}
                          },
                          "name": "sku",
                          "nullable": true
                        },
                        {
                          "dataType": {},
                          "metadata": {
                            "map": {}
                          },
                          "name": "name",
                          "nullable": true
                        },
                        {
                          "dataType": {},
                          "metadata": {
                            "map": {}
                          },
                          "name": "price",
                          "nullable": true
                        },
                        {
                          "dataType": {},
                          "metadata": {
                            "map": {}
                          },
                          "name": "quantity",
                          "nullable": true
                        }
                      ],
                      "values": [
                        "BK-T18U-54",
                        "Touring-3000 Blue, 54",
                        742.35,
                        "1"
                      ]
                    }
                  ]
                ],
                [
                  "67FAE09F-F090-40B8-97D9-2D59367A8AB2",
                  [
                    {
                      "schema": [
                        {
                          "dataType": {},
                          "metadata": {
                            "map": {}
                          },
                          "name": "sku",
                          "nullable": true
                        },
                        {
                          "dataType": {},
                          "metadata": {
                            "map": {}
                          },
                          "name": "name",
                          "nullable": true
                        },
                        {
                          "dataType": {},
                          "metadata": {
                            "map": {}
                          },
                          "name": "price",
                          "nullable": true
                        },
                        {
                          "dataType": {},
                          "metadata": {
                            "map": {}
                          },
                          "name": "quantity",
                          "nullable": true
                        }
                      ],
                      "values": [
                        "BK-T79Y-60",
                        "Touring-1000 Yellow, 60",
                        1430.442,
                        "2"
                      ]
                    },
                    {
                      "schema": [
                        {
                          "dataType": {},
                          "metadata": {
                            "map": {}
                          },
                          "name": "sku",
                          "nullable": true
                        },
                        {
                          "dataType": {},
                          "metadata": {
                            "map": {}
                          },
                          "name": "name",
                          "nullable": true
                        },
                        {
                          "dataType": {},
                          "metadata": {
                            "map": {}
                          },
                          "name": "price",
                          "nullable": true
                        },
                        {
                          "dataType": {},
                          "metadata": {
                            "map": {}
                          },
                          "name": "quantity",
                          "nullable": true
                        }
                      ],
                      "values": [
                        "BK-T79U-46",
                        "Touring-1000 Blue, 46",
                        1430.442,
                        "2"
                      ]
                    },
                    {
                      "schema": [
                        {
                          "dataType": {},
                          "metadata": {
                            "map": {}
                          },
                          "name": "sku",
                          "nullable": true
                        },
                        {
                          "dataType": {},
                          "metadata": {
                            "map": {}
                          },
                          "name": "name",
                          "nullable": true
                        },
                        {
                          "dataType": {},
                          "metadata": {
                            "map": {}
                          },
                          "name": "price",
                          "nullable": true
                        },
                        {
                          "dataType": {},
                          "metadata": {
                            "map": {}
                          },
                          "name": "quantity",
                          "nullable": true
                        }
                      ],
                      "values": [
                        "BK-T79U-60",
                        "Touring-1000 Blue, 60",
                        1430.442,
                        "1"
                      ]
                    },
                    {
                      "schema": [
                        {
                          "dataType": {},
                          "metadata": {
                            "map": {}
                          },
                          "name": "sku",
                          "nullable": true
                        },
                        {
                          "dataType": {},
                          "metadata": {
                            "map": {}
                          },
                          "name": "name",
                          "nullable": true
                        },
                        {
                          "dataType": {},
                          "metadata": {
                            "map": {}
                          },
                          "name": "price",
                          "nullable": true
                        },
                        {
                          "dataType": {},
                          "metadata": {
                            "map": {}
                          },
                          "name": "quantity",
                          "nullable": true
                        }
                      ],
                      "values": [
                        "BK-T44U-54",
                        "Touring-2000 Blue, 54",
                        728.91,
                        "1"
                      ]
                    },
                    {
                      "schema": [
                        {
                          "dataType": {},
                          "metadata": {
                            "map": {}
                          },
                          "name": "sku",
                          "nullable": true
                        },
                        {
                          "dataType": {},
                          "metadata": {
                            "map": {}
                          },
                          "name": "name",
                          "nullable": true
                        },
                        {
                          "dataType": {},
                          "metadata": {
                            "map": {}
                          },
                          "name": "price",
                          "nullable": true
                        },
                        {
                          "dataType": {},
                          "metadata": {
                            "map": {}
                          },
                          "name": "quantity",
                          "nullable": true
                        }
                      ],
                      "values": [
                        "BK-T79Y-46",
                        "Touring-1000 Yellow, 46",
                        1430.442,
                        "1"
                      ]
                    }
                  ]
                ],
                [
                  "6728783F-48F6-4D41-8A59-EA2B50EB4A4E",
                  [
                    {
                      "schema": [
                        {
                          "dataType": {},
                          "metadata": {
                            "map": {}
                          },
                          "name": "sku",
                          "nullable": true
                        },
                        {
                          "dataType": {},
                          "metadata": {
                            "map": {}
                          },
                          "name": "name",
                          "nullable": true
                        },
                        {
                          "dataType": {},
                          "metadata": {
                            "map": {}
                          },
                          "name": "price",
                          "nullable": true
                        },
                        {
                          "dataType": {},
                          "metadata": {
                            "map": {}
                          },
                          "name": "quantity",
                          "nullable": true
                        }
                      ],
                      "values": [
                        "CA-1098",
                        "AWC Logo Cap",
                        8.99,
                        "1"
                      ]
                    },
                    {
                      "schema": [
                        {
                          "dataType": {},
                          "metadata": {
                            "map": {}
                          },
                          "name": "sku",
                          "nullable": true
                        },
                        {
                          "dataType": {},
                          "metadata": {
                            "map": {}
                          },
                          "name": "name",
                          "nullable": true
                        },
                        {
                          "dataType": {},
                          "metadata": {
                            "map": {}
                          },
                          "name": "price",
                          "nullable": true
                        },
                        {
                          "dataType": {},
                          "metadata": {
                            "map": {}
                          },
                          "name": "quantity",
                          "nullable": true
                        }
                      ],
                      "values": [
                        "SH-W890-M",
                        "Women's Mountain Shorts, M",
                        69.99,
                        "1"
                      ]
                    },
                    {
                      "schema": [
                        {
                          "dataType": {},
                          "metadata": {
                            "map": {}
                          },
                          "name": "sku",
                          "nullable": true
                        },
                        {
                          "dataType": {},
                          "metadata": {
                            "map": {}
                          },
                          "name": "name",
                          "nullable": true
                        },
                        {
                          "dataType": {},
                          "metadata": {
                            "map": {}
                          },
                          "name": "price",
                          "nullable": true
                        },
                        {
                          "dataType": {},
                          "metadata": {
                            "map": {}
                          },
                          "name": "quantity",
                          "nullable": true
                        }
                      ],
                      "values": [
                        "LJ-0192-M",
                        "Long-Sleeve Logo Jersey, M",
                        49.99,
                        "1"
                      ]
                    }
                  ]
                ]
              ],
              "schema": {
                "fields": [
                  {
                    "metadata": {},
                    "name": "SalesOrderId",
                    "nullable": true,
                    "type": "string"
                  },
                  {
                    "metadata": {},
                    "name": "details",
                    "nullable": true,
                    "type": {
                      "containsNull": true,
                      "elementType": {
                        "fields": [
                          {
                            "metadata": {},
                            "name": "sku",
                            "nullable": true,
                            "type": "string"
                          },
                          {
                            "metadata": {},
                            "name": "name",
                            "nullable": true,
                            "type": "string"
                          },
                          {
                            "metadata": {},
                            "name": "price",
                            "nullable": true,
                            "type": "double"
                          },
                          {
                            "metadata": {},
                            "name": "quantity",
                            "nullable": true,
                            "type": "long"
                          }
                        ],
                        "type": "struct"
                      },
                      "type": "array"
                    }
                  }
                ],
                "type": "struct"
              }
            },
            "text/plain": [
              "<Spark SQL result set with 10 rows and 2 fields>"
            ]
          },
          "execution_count": 20,
          "metadata": {},
          "output_type": "execute_result"
        }
      ],
      "source": [
        "%%sql\n",
        "\n",
        "-- SalesOrdersコンテナのdetails属性は配列を持つことを確認\n",
        "SELECT id as SalesOrderId, details\n",
        "    FROM AdventureWorks.SalesOrders\n",
        "    LIMIT 10"
      ]
    },
    {
      "cell_type": "code",
      "execution_count": 21,
      "metadata": {
        "collapsed": false,
        "jupyter": {
          "outputs_hidden": false,
          "source_hidden": false
        },
        "microsoft": {
          "language": "sparksql"
        },
        "nteract": {
          "transient": {
            "deleting": false
          }
        }
      },
      "outputs": [
        {
          "data": {
            "application/vnd.livy.statement-meta+json": {
              "execution_finish_time": "2022-03-27T00:12:37.2118556Z",
              "execution_start_time": "2022-03-27T00:12:34.4268841Z",
              "livy_statement_state": "available",
              "queued_time": "2022-03-27T00:12:34.3012984Z",
              "session_id": 0,
              "session_start_time": null,
              "spark_pool": "spark31",
              "state": "finished",
              "statement_id": 22
            },
            "text/plain": [
              "StatementMeta(spark31, 0, 22, Finished, Available)"
            ]
          },
          "metadata": {},
          "output_type": "display_data"
        },
        {
          "data": {
            "application/vnd.synapse.sparksql-result+json": {
              "data": [
                [
                  "6E13D489-584B-4B1F-AEB7-C4DF5F37F013",
                  {
                    "schema": [
                      {
                        "dataType": {},
                        "metadata": {
                          "map": {}
                        },
                        "name": "sku",
                        "nullable": true
                      },
                      {
                        "dataType": {},
                        "metadata": {
                          "map": {}
                        },
                        "name": "name",
                        "nullable": true
                      },
                      {
                        "dataType": {},
                        "metadata": {
                          "map": {}
                        },
                        "name": "price",
                        "nullable": true
                      },
                      {
                        "dataType": {},
                        "metadata": {
                          "map": {}
                        },
                        "name": "quantity",
                        "nullable": true
                      }
                    ],
                    "values": [
                      "BK-M68S-46",
                      "Mountain-200 Silver, 46",
                      2071.4196,
                      "1"
                    ]
                  }
                ],
                [
                  "6D2B37AE-7839-44F4-8FB6-D7F2D19A7610",
                  {
                    "schema": [
                      {
                        "dataType": {},
                        "metadata": {
                          "map": {}
                        },
                        "name": "sku",
                        "nullable": true
                      },
                      {
                        "dataType": {},
                        "metadata": {
                          "map": {}
                        },
                        "name": "name",
                        "nullable": true
                      },
                      {
                        "dataType": {},
                        "metadata": {
                          "map": {}
                        },
                        "name": "price",
                        "nullable": true
                      },
                      {
                        "dataType": {},
                        "metadata": {
                          "map": {}
                        },
                        "name": "quantity",
                        "nullable": true
                      }
                    ],
                    "values": [
                      "WB-H098",
                      "Water Bottle - 30 oz.",
                      4.99,
                      "1"
                    ]
                  }
                ],
                [
                  "6D2B37AE-7839-44F4-8FB6-D7F2D19A7610",
                  {
                    "schema": [
                      {
                        "dataType": {},
                        "metadata": {
                          "map": {}
                        },
                        "name": "sku",
                        "nullable": true
                      },
                      {
                        "dataType": {},
                        "metadata": {
                          "map": {}
                        },
                        "name": "name",
                        "nullable": true
                      },
                      {
                        "dataType": {},
                        "metadata": {
                          "map": {}
                        },
                        "name": "price",
                        "nullable": true
                      },
                      {
                        "dataType": {},
                        "metadata": {
                          "map": {}
                        },
                        "name": "quantity",
                        "nullable": true
                      }
                    ],
                    "values": [
                      "PK-7098",
                      "Patch Kit/8 Patches",
                      2.29,
                      "1"
                    ]
                  }
                ],
                [
                  "6D2B37AE-7839-44F4-8FB6-D7F2D19A7610",
                  {
                    "schema": [
                      {
                        "dataType": {},
                        "metadata": {
                          "map": {}
                        },
                        "name": "sku",
                        "nullable": true
                      },
                      {
                        "dataType": {},
                        "metadata": {
                          "map": {}
                        },
                        "name": "name",
                        "nullable": true
                      },
                      {
                        "dataType": {},
                        "metadata": {
                          "map": {}
                        },
                        "name": "price",
                        "nullable": true
                      },
                      {
                        "dataType": {},
                        "metadata": {
                          "map": {}
                        },
                        "name": "quantity",
                        "nullable": true
                      }
                    ],
                    "values": [
                      "BC-M005",
                      "Mountain Bottle Cage",
                      9.99,
                      "1"
                    ]
                  }
                ],
                [
                  "6C434E75-3968-4576-950D-93BD6FE55DAE",
                  {
                    "schema": [
                      {
                        "dataType": {},
                        "metadata": {
                          "map": {}
                        },
                        "name": "sku",
                        "nullable": true
                      },
                      {
                        "dataType": {},
                        "metadata": {
                          "map": {}
                        },
                        "name": "name",
                        "nullable": true
                      },
                      {
                        "dataType": {},
                        "metadata": {
                          "map": {}
                        },
                        "name": "price",
                        "nullable": true
                      },
                      {
                        "dataType": {},
                        "metadata": {
                          "map": {}
                        },
                        "name": "quantity",
                        "nullable": true
                      }
                    ],
                    "values": [
                      "BK-M82B-44",
                      "Mountain-100 Black, 44",
                      2024.994,
                      "3"
                    ]
                  }
                ],
                [
                  "6C434E75-3968-4576-950D-93BD6FE55DAE",
                  {
                    "schema": [
                      {
                        "dataType": {},
                        "metadata": {
                          "map": {}
                        },
                        "name": "sku",
                        "nullable": true
                      },
                      {
                        "dataType": {},
                        "metadata": {
                          "map": {}
                        },
                        "name": "name",
                        "nullable": true
                      },
                      {
                        "dataType": {},
                        "metadata": {
                          "map": {}
                        },
                        "name": "price",
                        "nullable": true
                      },
                      {
                        "dataType": {},
                        "metadata": {
                          "map": {}
                        },
                        "name": "quantity",
                        "nullable": true
                      }
                    ],
                    "values": [
                      "BK-M82B-48",
                      "Mountain-100 Black, 48",
                      2024.994,
                      "1"
                    ]
                  }
                ],
                [
                  "6C434E75-3968-4576-950D-93BD6FE55DAE",
                  {
                    "schema": [
                      {
                        "dataType": {},
                        "metadata": {
                          "map": {}
                        },
                        "name": "sku",
                        "nullable": true
                      },
                      {
                        "dataType": {},
                        "metadata": {
                          "map": {}
                        },
                        "name": "name",
                        "nullable": true
                      },
                      {
                        "dataType": {},
                        "metadata": {
                          "map": {}
                        },
                        "name": "price",
                        "nullable": true
                      },
                      {
                        "dataType": {},
                        "metadata": {
                          "map": {}
                        },
                        "name": "quantity",
                        "nullable": true
                      }
                    ],
                    "values": [
                      "BK-M82B-38",
                      "Mountain-100 Black, 38",
                      2024.994,
                      "4"
                    ]
                  }
                ],
                [
                  "6C434E75-3968-4576-950D-93BD6FE55DAE",
                  {
                    "schema": [
                      {
                        "dataType": {},
                        "metadata": {
                          "map": {}
                        },
                        "name": "sku",
                        "nullable": true
                      },
                      {
                        "dataType": {},
                        "metadata": {
                          "map": {}
                        },
                        "name": "name",
                        "nullable": true
                      },
                      {
                        "dataType": {},
                        "metadata": {
                          "map": {}
                        },
                        "name": "price",
                        "nullable": true
                      },
                      {
                        "dataType": {},
                        "metadata": {
                          "map": {}
                        },
                        "name": "quantity",
                        "nullable": true
                      }
                    ],
                    "values": [
                      "BK-M82B-42",
                      "Mountain-100 Black, 42",
                      2024.994,
                      "2"
                    ]
                  }
                ],
                [
                  "6B937EF7-EA07-4F72-B40C-D866313E5219",
                  {
                    "schema": [
                      {
                        "dataType": {},
                        "metadata": {
                          "map": {}
                        },
                        "name": "sku",
                        "nullable": true
                      },
                      {
                        "dataType": {},
                        "metadata": {
                          "map": {}
                        },
                        "name": "name",
                        "nullable": true
                      },
                      {
                        "dataType": {},
                        "metadata": {
                          "map": {}
                        },
                        "name": "price",
                        "nullable": true
                      },
                      {
                        "dataType": {},
                        "metadata": {
                          "map": {}
                        },
                        "name": "quantity",
                        "nullable": true
                      }
                    ],
                    "values": [
                      "BK-R89R-58",
                      "Road-250 Red, 58",
                      2181.5625,
                      "1"
                    ]
                  }
                ],
                [
                  "6AEBAEEB-8B01-4CDD-8F21-6EB486AC8FF5",
                  {
                    "schema": [
                      {
                        "dataType": {},
                        "metadata": {
                          "map": {}
                        },
                        "name": "sku",
                        "nullable": true
                      },
                      {
                        "dataType": {},
                        "metadata": {
                          "map": {}
                        },
                        "name": "name",
                        "nullable": true
                      },
                      {
                        "dataType": {},
                        "metadata": {
                          "map": {}
                        },
                        "name": "price",
                        "nullable": true
                      },
                      {
                        "dataType": {},
                        "metadata": {
                          "map": {}
                        },
                        "name": "quantity",
                        "nullable": true
                      }
                    ],
                    "values": [
                      "BK-M68B-46",
                      "Mountain-200 Black, 46",
                      2049.0982,
                      "1"
                    ]
                  }
                ]
              ],
              "schema": {
                "fields": [
                  {
                    "metadata": {},
                    "name": "SalesOrderId",
                    "nullable": true,
                    "type": "string"
                  },
                  {
                    "metadata": {},
                    "name": "col",
                    "nullable": true,
                    "type": {
                      "fields": [
                        {
                          "metadata": {},
                          "name": "sku",
                          "nullable": true,
                          "type": "string"
                        },
                        {
                          "metadata": {},
                          "name": "name",
                          "nullable": true,
                          "type": "string"
                        },
                        {
                          "metadata": {},
                          "name": "price",
                          "nullable": true,
                          "type": "double"
                        },
                        {
                          "metadata": {},
                          "name": "quantity",
                          "nullable": true,
                          "type": "long"
                        }
                      ],
                      "type": "struct"
                    }
                  }
                ],
                "type": "struct"
              }
            },
            "text/plain": [
              "<Spark SQL result set with 10 rows and 2 fields>"
            ]
          },
          "execution_count": 21,
          "metadata": {},
          "output_type": "execute_result"
        }
      ],
      "source": [
        "%%sql\n",
        "\n",
        "-- 配列の要素を行に分割\n",
        "SELECT id as SalesOrderId, explode(details)\n",
        "    FROM AdventureWorks.SalesOrders\n",
        "    LIMIT 10"
      ]
    },
    {
      "cell_type": "code",
      "execution_count": 22,
      "metadata": {
        "collapsed": false,
        "jupyter": {
          "outputs_hidden": false,
          "source_hidden": false
        },
        "microsoft": {
          "language": "sparksql"
        },
        "nteract": {
          "transient": {
            "deleting": false
          }
        }
      },
      "outputs": [
        {
          "data": {
            "application/vnd.livy.statement-meta+json": {
              "execution_finish_time": "2022-03-27T00:12:45.3081036Z",
              "execution_start_time": "2022-03-27T00:12:42.532552Z",
              "livy_statement_state": "available",
              "queued_time": "2022-03-27T00:12:42.4239525Z",
              "session_id": 0,
              "session_start_time": null,
              "spark_pool": "spark31",
              "state": "finished",
              "statement_id": 23
            },
            "text/plain": [
              "StatementMeta(spark31, 0, 23, Finished, Available)"
            ]
          },
          "metadata": {},
          "output_type": "display_data"
        },
        {
          "data": {
            "application/vnd.synapse.sparksql-result+json": {
              "data": [
                [
                  "6E13D489-584B-4B1F-AEB7-C4DF5F37F013",
                  0,
                  {
                    "schema": [
                      {
                        "dataType": {},
                        "metadata": {
                          "map": {}
                        },
                        "name": "sku",
                        "nullable": true
                      },
                      {
                        "dataType": {},
                        "metadata": {
                          "map": {}
                        },
                        "name": "name",
                        "nullable": true
                      },
                      {
                        "dataType": {},
                        "metadata": {
                          "map": {}
                        },
                        "name": "price",
                        "nullable": true
                      },
                      {
                        "dataType": {},
                        "metadata": {
                          "map": {}
                        },
                        "name": "quantity",
                        "nullable": true
                      }
                    ],
                    "values": [
                      "BK-M68S-46",
                      "Mountain-200 Silver, 46",
                      2071.4196,
                      "1"
                    ]
                  }
                ],
                [
                  "6D2B37AE-7839-44F4-8FB6-D7F2D19A7610",
                  0,
                  {
                    "schema": [
                      {
                        "dataType": {},
                        "metadata": {
                          "map": {}
                        },
                        "name": "sku",
                        "nullable": true
                      },
                      {
                        "dataType": {},
                        "metadata": {
                          "map": {}
                        },
                        "name": "name",
                        "nullable": true
                      },
                      {
                        "dataType": {},
                        "metadata": {
                          "map": {}
                        },
                        "name": "price",
                        "nullable": true
                      },
                      {
                        "dataType": {},
                        "metadata": {
                          "map": {}
                        },
                        "name": "quantity",
                        "nullable": true
                      }
                    ],
                    "values": [
                      "WB-H098",
                      "Water Bottle - 30 oz.",
                      4.99,
                      "1"
                    ]
                  }
                ],
                [
                  "6D2B37AE-7839-44F4-8FB6-D7F2D19A7610",
                  1,
                  {
                    "schema": [
                      {
                        "dataType": {},
                        "metadata": {
                          "map": {}
                        },
                        "name": "sku",
                        "nullable": true
                      },
                      {
                        "dataType": {},
                        "metadata": {
                          "map": {}
                        },
                        "name": "name",
                        "nullable": true
                      },
                      {
                        "dataType": {},
                        "metadata": {
                          "map": {}
                        },
                        "name": "price",
                        "nullable": true
                      },
                      {
                        "dataType": {},
                        "metadata": {
                          "map": {}
                        },
                        "name": "quantity",
                        "nullable": true
                      }
                    ],
                    "values": [
                      "PK-7098",
                      "Patch Kit/8 Patches",
                      2.29,
                      "1"
                    ]
                  }
                ],
                [
                  "6D2B37AE-7839-44F4-8FB6-D7F2D19A7610",
                  2,
                  {
                    "schema": [
                      {
                        "dataType": {},
                        "metadata": {
                          "map": {}
                        },
                        "name": "sku",
                        "nullable": true
                      },
                      {
                        "dataType": {},
                        "metadata": {
                          "map": {}
                        },
                        "name": "name",
                        "nullable": true
                      },
                      {
                        "dataType": {},
                        "metadata": {
                          "map": {}
                        },
                        "name": "price",
                        "nullable": true
                      },
                      {
                        "dataType": {},
                        "metadata": {
                          "map": {}
                        },
                        "name": "quantity",
                        "nullable": true
                      }
                    ],
                    "values": [
                      "BC-M005",
                      "Mountain Bottle Cage",
                      9.99,
                      "1"
                    ]
                  }
                ],
                [
                  "6C434E75-3968-4576-950D-93BD6FE55DAE",
                  0,
                  {
                    "schema": [
                      {
                        "dataType": {},
                        "metadata": {
                          "map": {}
                        },
                        "name": "sku",
                        "nullable": true
                      },
                      {
                        "dataType": {},
                        "metadata": {
                          "map": {}
                        },
                        "name": "name",
                        "nullable": true
                      },
                      {
                        "dataType": {},
                        "metadata": {
                          "map": {}
                        },
                        "name": "price",
                        "nullable": true
                      },
                      {
                        "dataType": {},
                        "metadata": {
                          "map": {}
                        },
                        "name": "quantity",
                        "nullable": true
                      }
                    ],
                    "values": [
                      "BK-M82B-44",
                      "Mountain-100 Black, 44",
                      2024.994,
                      "3"
                    ]
                  }
                ],
                [
                  "6C434E75-3968-4576-950D-93BD6FE55DAE",
                  1,
                  {
                    "schema": [
                      {
                        "dataType": {},
                        "metadata": {
                          "map": {}
                        },
                        "name": "sku",
                        "nullable": true
                      },
                      {
                        "dataType": {},
                        "metadata": {
                          "map": {}
                        },
                        "name": "name",
                        "nullable": true
                      },
                      {
                        "dataType": {},
                        "metadata": {
                          "map": {}
                        },
                        "name": "price",
                        "nullable": true
                      },
                      {
                        "dataType": {},
                        "metadata": {
                          "map": {}
                        },
                        "name": "quantity",
                        "nullable": true
                      }
                    ],
                    "values": [
                      "BK-M82B-48",
                      "Mountain-100 Black, 48",
                      2024.994,
                      "1"
                    ]
                  }
                ],
                [
                  "6C434E75-3968-4576-950D-93BD6FE55DAE",
                  2,
                  {
                    "schema": [
                      {
                        "dataType": {},
                        "metadata": {
                          "map": {}
                        },
                        "name": "sku",
                        "nullable": true
                      },
                      {
                        "dataType": {},
                        "metadata": {
                          "map": {}
                        },
                        "name": "name",
                        "nullable": true
                      },
                      {
                        "dataType": {},
                        "metadata": {
                          "map": {}
                        },
                        "name": "price",
                        "nullable": true
                      },
                      {
                        "dataType": {},
                        "metadata": {
                          "map": {}
                        },
                        "name": "quantity",
                        "nullable": true
                      }
                    ],
                    "values": [
                      "BK-M82B-38",
                      "Mountain-100 Black, 38",
                      2024.994,
                      "4"
                    ]
                  }
                ],
                [
                  "6C434E75-3968-4576-950D-93BD6FE55DAE",
                  3,
                  {
                    "schema": [
                      {
                        "dataType": {},
                        "metadata": {
                          "map": {}
                        },
                        "name": "sku",
                        "nullable": true
                      },
                      {
                        "dataType": {},
                        "metadata": {
                          "map": {}
                        },
                        "name": "name",
                        "nullable": true
                      },
                      {
                        "dataType": {},
                        "metadata": {
                          "map": {}
                        },
                        "name": "price",
                        "nullable": true
                      },
                      {
                        "dataType": {},
                        "metadata": {
                          "map": {}
                        },
                        "name": "quantity",
                        "nullable": true
                      }
                    ],
                    "values": [
                      "BK-M82B-42",
                      "Mountain-100 Black, 42",
                      2024.994,
                      "2"
                    ]
                  }
                ],
                [
                  "6B937EF7-EA07-4F72-B40C-D866313E5219",
                  0,
                  {
                    "schema": [
                      {
                        "dataType": {},
                        "metadata": {
                          "map": {}
                        },
                        "name": "sku",
                        "nullable": true
                      },
                      {
                        "dataType": {},
                        "metadata": {
                          "map": {}
                        },
                        "name": "name",
                        "nullable": true
                      },
                      {
                        "dataType": {},
                        "metadata": {
                          "map": {}
                        },
                        "name": "price",
                        "nullable": true
                      },
                      {
                        "dataType": {},
                        "metadata": {
                          "map": {}
                        },
                        "name": "quantity",
                        "nullable": true
                      }
                    ],
                    "values": [
                      "BK-R89R-58",
                      "Road-250 Red, 58",
                      2181.5625,
                      "1"
                    ]
                  }
                ],
                [
                  "6AEBAEEB-8B01-4CDD-8F21-6EB486AC8FF5",
                  0,
                  {
                    "schema": [
                      {
                        "dataType": {},
                        "metadata": {
                          "map": {}
                        },
                        "name": "sku",
                        "nullable": true
                      },
                      {
                        "dataType": {},
                        "metadata": {
                          "map": {}
                        },
                        "name": "name",
                        "nullable": true
                      },
                      {
                        "dataType": {},
                        "metadata": {
                          "map": {}
                        },
                        "name": "price",
                        "nullable": true
                      },
                      {
                        "dataType": {},
                        "metadata": {
                          "map": {}
                        },
                        "name": "quantity",
                        "nullable": true
                      }
                    ],
                    "values": [
                      "BK-M68B-46",
                      "Mountain-200 Black, 46",
                      2049.0982,
                      "1"
                    ]
                  }
                ]
              ],
              "schema": {
                "fields": [
                  {
                    "metadata": {},
                    "name": "SalesOrderId",
                    "nullable": true,
                    "type": "string"
                  },
                  {
                    "metadata": {},
                    "name": "pos",
                    "nullable": false,
                    "type": "integer"
                  },
                  {
                    "metadata": {},
                    "name": "col",
                    "nullable": true,
                    "type": {
                      "fields": [
                        {
                          "metadata": {},
                          "name": "sku",
                          "nullable": true,
                          "type": "string"
                        },
                        {
                          "metadata": {},
                          "name": "name",
                          "nullable": true,
                          "type": "string"
                        },
                        {
                          "metadata": {},
                          "name": "price",
                          "nullable": true,
                          "type": "double"
                        },
                        {
                          "metadata": {},
                          "name": "quantity",
                          "nullable": true,
                          "type": "long"
                        }
                      ],
                      "type": "struct"
                    }
                  }
                ],
                "type": "struct"
              }
            },
            "text/plain": [
              "<Spark SQL result set with 10 rows and 3 fields>"
            ]
          },
          "execution_count": 22,
          "metadata": {},
          "output_type": "execute_result"
        }
      ],
      "source": [
        "%%sql\n",
        "\n",
        "-- 配列の要素を行に分割し位置を示す列を追加\n",
        "SELECT id as SalesOrderId, posexplode(details) \n",
        "    FROM AdventureWorks.SalesOrders\n",
        "    LIMIT 10"
      ]
    },
    {
      "cell_type": "code",
      "execution_count": 23,
      "metadata": {
        "collapsed": false,
        "jupyter": {
          "outputs_hidden": false,
          "source_hidden": false
        },
        "microsoft": {
          "language": "sparksql"
        },
        "nteract": {
          "transient": {
            "deleting": false
          }
        }
      },
      "outputs": [
        {
          "data": {
            "application/vnd.livy.statement-meta+json": {
              "execution_finish_time": "2022-03-27T00:12:50.1704949Z",
              "execution_start_time": "2022-03-27T00:12:49.0964601Z",
              "livy_statement_state": "available",
              "queued_time": "2022-03-27T00:12:48.9864319Z",
              "session_id": 0,
              "session_start_time": null,
              "spark_pool": "spark31",
              "state": "finished",
              "statement_id": 24
            },
            "text/plain": [
              "StatementMeta(spark31, 0, 24, Finished, Available)"
            ]
          },
          "metadata": {},
          "output_type": "display_data"
        },
        {
          "data": {
            "application/vnd.synapse.sparksql-result+json": {
              "data": [],
              "schema": {
                "fields": [],
                "type": "struct"
              }
            },
            "text/plain": [
              "<Spark SQL result set with 0 rows and 0 fields>"
            ]
          },
          "execution_count": 23,
          "metadata": {},
          "output_type": "execute_result"
        }
      ],
      "source": [
        "%%sql\n",
        "CREATE OR REPLACE VIEW AdventureWorks.SalesOrderDetailsView\n",
        "AS\n",
        "    SELECT Ax.SalesOrderId,\n",
        "        pos+1 as SalesOrderLine,\n",
        "        col.sku AS SKUCode,\n",
        "        col.name AS Name,\n",
        "        col.price AS Price, \n",
        "        col.quantity AS Quantity\n",
        "    FROM \n",
        "        (\n",
        "            SELECT id as SalesOrderId, posexplode(details) FROM AdventureWorks.SalesOrders \n",
        "        ) Ax"
      ]
    },
    {
      "cell_type": "code",
      "execution_count": 24,
      "metadata": {
        "collapsed": false,
        "jupyter": {
          "outputs_hidden": false,
          "source_hidden": false
        },
        "microsoft": {
          "language": "sparksql"
        },
        "nteract": {
          "transient": {
            "deleting": false
          }
        }
      },
      "outputs": [
        {
          "data": {
            "application/vnd.livy.statement-meta+json": {
              "execution_finish_time": "2022-03-27T00:13:01.8531397Z",
              "execution_start_time": "2022-03-27T00:12:59.0190594Z",
              "livy_statement_state": "available",
              "queued_time": "2022-03-27T00:12:58.9090569Z",
              "session_id": 0,
              "session_start_time": null,
              "spark_pool": "spark31",
              "state": "finished",
              "statement_id": 25
            },
            "text/plain": [
              "StatementMeta(spark31, 0, 25, Finished, Available)"
            ]
          },
          "metadata": {},
          "output_type": "display_data"
        },
        {
          "data": {
            "application/vnd.synapse.sparksql-result+json": {
              "data": [
                [
                  "6E13D489-584B-4B1F-AEB7-C4DF5F37F013",
                  1,
                  "BK-M68S-46",
                  "Mountain-200 Silver, 46",
                  2071.4196,
                  "1"
                ],
                [
                  "6D2B37AE-7839-44F4-8FB6-D7F2D19A7610",
                  1,
                  "WB-H098",
                  "Water Bottle - 30 oz.",
                  4.99,
                  "1"
                ],
                [
                  "6D2B37AE-7839-44F4-8FB6-D7F2D19A7610",
                  2,
                  "PK-7098",
                  "Patch Kit/8 Patches",
                  2.29,
                  "1"
                ],
                [
                  "6D2B37AE-7839-44F4-8FB6-D7F2D19A7610",
                  3,
                  "BC-M005",
                  "Mountain Bottle Cage",
                  9.99,
                  "1"
                ],
                [
                  "6C434E75-3968-4576-950D-93BD6FE55DAE",
                  1,
                  "BK-M82B-44",
                  "Mountain-100 Black, 44",
                  2024.994,
                  "3"
                ],
                [
                  "6C434E75-3968-4576-950D-93BD6FE55DAE",
                  2,
                  "BK-M82B-48",
                  "Mountain-100 Black, 48",
                  2024.994,
                  "1"
                ],
                [
                  "6C434E75-3968-4576-950D-93BD6FE55DAE",
                  3,
                  "BK-M82B-38",
                  "Mountain-100 Black, 38",
                  2024.994,
                  "4"
                ],
                [
                  "6C434E75-3968-4576-950D-93BD6FE55DAE",
                  4,
                  "BK-M82B-42",
                  "Mountain-100 Black, 42",
                  2024.994,
                  "2"
                ],
                [
                  "6B937EF7-EA07-4F72-B40C-D866313E5219",
                  1,
                  "BK-R89R-58",
                  "Road-250 Red, 58",
                  2181.5625,
                  "1"
                ],
                [
                  "6AEBAEEB-8B01-4CDD-8F21-6EB486AC8FF5",
                  1,
                  "BK-M68B-46",
                  "Mountain-200 Black, 46",
                  2049.0982,
                  "1"
                ]
              ],
              "schema": {
                "fields": [
                  {
                    "metadata": {},
                    "name": "SalesOrderId",
                    "nullable": true,
                    "type": "string"
                  },
                  {
                    "metadata": {},
                    "name": "SalesOrderLine",
                    "nullable": false,
                    "type": "integer"
                  },
                  {
                    "metadata": {},
                    "name": "SKUCode",
                    "nullable": true,
                    "type": "string"
                  },
                  {
                    "metadata": {},
                    "name": "Name",
                    "nullable": true,
                    "type": "string"
                  },
                  {
                    "metadata": {},
                    "name": "Price",
                    "nullable": true,
                    "type": "double"
                  },
                  {
                    "metadata": {},
                    "name": "Quantity",
                    "nullable": true,
                    "type": "long"
                  }
                ],
                "type": "struct"
              }
            },
            "text/plain": [
              "<Spark SQL result set with 10 rows and 6 fields>"
            ]
          },
          "execution_count": 24,
          "metadata": {},
          "output_type": "execute_result"
        }
      ],
      "source": [
        "%%sql\n",
        "SELECT * \n",
        "FROM AdventureWorks.SalesOrderDetailsView\n",
        "LIMIT 10"
      ]
    },
    {
      "cell_type": "code",
      "execution_count": 25,
      "metadata": {
        "collapsed": false,
        "jupyter": {
          "outputs_hidden": false,
          "source_hidden": false
        },
        "microsoft": {
          "language": "sparksql"
        },
        "nteract": {
          "transient": {
            "deleting": false
          }
        }
      },
      "outputs": [
        {
          "data": {
            "application/vnd.livy.statement-meta+json": {
              "execution_finish_time": "2022-03-27T00:13:06.8211582Z",
              "execution_start_time": "2022-03-27T00:13:04.989692Z",
              "livy_statement_state": "available",
              "queued_time": "2022-03-27T00:13:04.8705708Z",
              "session_id": 0,
              "session_start_time": null,
              "spark_pool": "spark31",
              "state": "finished",
              "statement_id": 26
            },
            "text/plain": [
              "StatementMeta(spark31, 0, 26, Finished, Available)"
            ]
          },
          "metadata": {},
          "output_type": "display_data"
        },
        {
          "data": {
            "application/vnd.synapse.sparksql-result+json": {
              "data": [],
              "schema": {
                "fields": [],
                "type": "struct"
              }
            },
            "text/plain": [
              "<Spark SQL result set with 0 rows and 0 fields>"
            ]
          },
          "execution_count": 25,
          "metadata": {},
          "output_type": "execute_result"
        }
      ],
      "source": [
        "%%sql\n",
        "CREATE OR REPLACE VIEW AdventureWorks.SalesOrderStatsView\n",
        "AS\n",
        "SELECT o.Country, o.City,\n",
        "    COUNT(DISTINCT o.CustomerId) Total_Customers,\n",
        "    COUNT(DISTINCT d.SalesOrderId) Total_Orders,\n",
        "    COUNT(d.SalesOrderId) Total_OrderLines,\n",
        "    SUM(d.Quantity*d.Price) AS Total_Revenue,\n",
        "    dense_rank() OVER (ORDER BY SUM(d.Quantity*d.Price) DESC) as Rank_Revenue,\n",
        "    dense_rank() OVER (ORDER BY COUNT(DISTINCT d.SalesOrderId) DESC) as Rank_Orders,\n",
        "    dense_rank() OVER (ORDER BY COUNT(d.SalesOrderId) DESC) as Rank_OrderLines,\n",
        "    dense_rank() OVER (PARTITION BY o.Country ORDER BY SUM(d.Quantity*d.Price) DESC) as Rank_Revenue_Country\n",
        "FROM AdventureWorks.SalesOrderView o\n",
        "INNER JOIN AdventureWorks.SalesOrderDetailsView d\n",
        "    ON o.SalesOrderId = d.SalesOrderId\n",
        "WHERE Country IS NOT NULL OR City IS NOT NULL\n",
        "GROUP BY o.Country, o.City\n",
        "ORDER BY Total_Revenue DESC"
      ]
    },
    {
      "cell_type": "code",
      "execution_count": 26,
      "metadata": {
        "collapsed": false,
        "jupyter": {
          "outputs_hidden": false,
          "source_hidden": false
        },
        "microsoft": {
          "language": "sparksql"
        },
        "nteract": {
          "transient": {
            "deleting": false
          }
        }
      },
      "outputs": [
        {
          "data": {
            "application/vnd.livy.statement-meta+json": {
              "execution_finish_time": "2022-03-27T00:13:46.368949Z",
              "execution_start_time": "2022-03-27T00:13:15.1756368Z",
              "livy_statement_state": "available",
              "queued_time": "2022-03-27T00:13:15.064957Z",
              "session_id": 0,
              "session_start_time": null,
              "spark_pool": "spark31",
              "state": "finished",
              "statement_id": 27
            },
            "text/plain": [
              "StatementMeta(spark31, 0, 27, Finished, Available)"
            ]
          },
          "metadata": {},
          "output_type": "display_data"
        },
        {
          "data": {
            "application/vnd.synapse.sparksql-result+json": {
              "data": [
                [
                  "GB-London",
                  "SalesOrderStatistic",
                  [
                    "GB"
                  ],
                  [
                    "London"
                  ],
                  "420",
                  "686",
                  "1579",
                  802810.2968999994,
                  2,
                  2,
                  2,
                  1
                ],
                [
                  "FR-Paris",
                  "SalesOrderStatistic",
                  [
                    "FR"
                  ],
                  [
                    "Paris"
                  ],
                  "386",
                  "522",
                  "1174",
                  539725.8000000002,
                  3,
                  3,
                  3,
                  1
                ],
                [
                  "AU-Wollongong",
                  "SalesOrderStatistic",
                  [
                    "AU"
                  ],
                  [
                    "Wollongong"
                  ],
                  "105",
                  "202",
                  "411",
                  338913.46650000004,
                  4,
                  24,
                  29,
                  1
                ],
                [
                  "AU-Warrnambool",
                  "SalesOrderStatistic",
                  [
                    "AU"
                  ],
                  [
                    "Warrnambool"
                  ],
                  "105",
                  "203",
                  "416",
                  327036.3682,
                  5,
                  23,
                  28,
                  2
                ],
                [
                  "AU-Bendigo",
                  "SalesOrderStatistic",
                  [
                    "AU"
                  ],
                  [
                    "Bendigo"
                  ],
                  "104",
                  "201",
                  "396",
                  314568.7192999999,
                  6,
                  25,
                  34,
                  3
                ],
                [
                  "AU-Goulburn",
                  "SalesOrderStatistic",
                  [
                    "AU"
                  ],
                  [
                    "Goulburn"
                  ],
                  "106",
                  "200",
                  "370",
                  310875.8977999999,
                  7,
                  26,
                  42,
                  4
                ],
                [
                  "US-Bellflower",
                  "SalesOrderStatistic",
                  [
                    "US"
                  ],
                  [
                    "Bellflower"
                  ],
                  "194",
                  "243",
                  "537",
                  302278.8056999998,
                  8,
                  11,
                  13,
                  1
                ],
                [
                  "AU-Brisbane",
                  "SalesOrderStatistic",
                  [
                    "AU"
                  ],
                  [
                    "Brisbane"
                  ],
                  "106",
                  "191",
                  "389",
                  295353.5779,
                  9,
                  32,
                  37,
                  5
                ],
                [
                  "AU-Townsville",
                  "SalesOrderStatistic",
                  [
                    "AU"
                  ],
                  [
                    "Townsville"
                  ],
                  "105",
                  "199",
                  "401",
                  285486.9111999999,
                  10,
                  27,
                  32,
                  6
                ],
                [
                  "AU-Geelong",
                  "SalesOrderStatistic",
                  [
                    "AU"
                  ],
                  [
                    "Geelong"
                  ],
                  "106",
                  "206",
                  "403",
                  283802.175,
                  11,
                  20,
                  31,
                  7
                ]
              ],
              "schema": {
                "fields": [
                  {
                    "metadata": {},
                    "name": "id",
                    "nullable": true,
                    "type": "string"
                  },
                  {
                    "metadata": {},
                    "name": "type",
                    "nullable": false,
                    "type": "string"
                  },
                  {
                    "metadata": {},
                    "name": "Country",
                    "nullable": true,
                    "type": {
                      "containsNull": true,
                      "elementType": "string",
                      "type": "array"
                    }
                  },
                  {
                    "metadata": {},
                    "name": "City",
                    "nullable": true,
                    "type": {
                      "containsNull": true,
                      "elementType": "string",
                      "type": "array"
                    }
                  },
                  {
                    "metadata": {},
                    "name": "Total_Customers",
                    "nullable": false,
                    "type": "long"
                  },
                  {
                    "metadata": {},
                    "name": "Total_Orders",
                    "nullable": false,
                    "type": "long"
                  },
                  {
                    "metadata": {},
                    "name": "Total_OrderLines",
                    "nullable": false,
                    "type": "long"
                  },
                  {
                    "metadata": {},
                    "name": "Total_Revenue",
                    "nullable": true,
                    "type": "double"
                  },
                  {
                    "metadata": {},
                    "name": "Rank_Revenue",
                    "nullable": true,
                    "type": "integer"
                  },
                  {
                    "metadata": {},
                    "name": "Rank_Orders",
                    "nullable": true,
                    "type": "integer"
                  },
                  {
                    "metadata": {},
                    "name": "Rank_OrderLines",
                    "nullable": true,
                    "type": "integer"
                  },
                  {
                    "metadata": {},
                    "name": "Rank_Revenue_Country",
                    "nullable": true,
                    "type": "integer"
                  }
                ],
                "type": "struct"
              }
            },
            "text/plain": [
              "<Spark SQL result set with 10 rows and 12 fields>"
            ]
          },
          "execution_count": 26,
          "metadata": {},
          "output_type": "execute_result"
        }
      ],
      "source": [
        "%%sql\n",
        "SELECT concat(Country[0],'-',replace(City[0],' ','')) AS id, \n",
        "    'SalesOrderStatistic' AS type, *\n",
        "FROM AdventureWorks.SalesOrderStatsView\n",
        "WHERE Country[0] IS NOT NULL\n",
        "LIMIT 10"
      ]
    },
    {
      "cell_type": "markdown",
      "metadata": {
        "nteract": {
          "transient": {
            "deleting": false
          }
        }
      },
      "source": [
        "## 3. 分析結果のトランザクションストアへの書き戻し\n",
        "id を生成\n",
        "動作はupsertになる\n",
        "\n",
        "https://docs.microsoft.com/ja-jp/learn/modules/query-azure-cosmos-db-with-apache-spark-for-azure-synapse-analytics/7-write-data-back-to-transactional-store"
      ]
    },
    {
      "cell_type": "code",
      "execution_count": 27,
      "metadata": {
        "jupyter": {
          "outputs_hidden": false,
          "source_hidden": false
        },
        "microsoft": {
          "language": "python"
        },
        "nteract": {
          "transient": {
            "deleting": false
          }
        }
      },
      "outputs": [
        {
          "data": {
            "application/vnd.livy.statement-meta+json": {
              "execution_finish_time": "2022-03-27T00:18:10.2582176Z",
              "execution_start_time": "2022-03-27T00:18:09.1685062Z",
              "livy_statement_state": "available",
              "queued_time": "2022-03-27T00:18:08.8652749Z",
              "session_id": 0,
              "session_start_time": null,
              "spark_pool": "spark31",
              "state": "finished",
              "statement_id": 28
            },
            "text/plain": [
              "StatementMeta(spark31, 0, 28, Finished, Available)"
            ]
          },
          "metadata": {},
          "output_type": "display_data"
        }
      ],
      "source": [
        "%%pyspark\n",
        "\n",
        "dfSalesOrderStatistic = spark.sql(\"SELECT concat(Country[0],'-',replace(City[0],' ','')) AS id, \\\n",
        "                                    'SalesOrderStatistic' AS type, \\\n",
        "                                    * FROM AdventureWorks.SalesOrderStatsView WHERE Country[0] IS NOT NULL\")\n"
      ]
    },
    {
      "cell_type": "code",
      "execution_count": 30,
      "metadata": {
        "jupyter": {
          "outputs_hidden": false,
          "source_hidden": false
        },
        "microsoft": {
          "language": "python"
        },
        "nteract": {
          "transient": {
            "deleting": false
          }
        }
      },
      "outputs": [
        {
          "data": {
            "application/vnd.livy.statement-meta+json": {
              "execution_finish_time": "2022-03-27T00:20:11.3130709Z",
              "execution_start_time": "2022-03-27T00:19:39.6070116Z",
              "livy_statement_state": "available",
              "queued_time": "2022-03-27T00:19:39.4877575Z",
              "session_id": 0,
              "session_start_time": null,
              "spark_pool": "spark31",
              "state": "finished",
              "statement_id": 31
            },
            "text/plain": [
              "StatementMeta(spark31, 0, 31, Finished, Available)"
            ]
          },
          "metadata": {},
          "output_type": "display_data"
        }
      ],
      "source": [
        "%%pyspark\n",
        "\n",
        "# 国コードと都市名を連結して各ドキュメントを一意に識別することで、都市の最新の統計情報を簡単に検索できます。 \n",
        "dfSalesOrderStatistic.write\\\n",
        "    .format(\"cosmos.oltp\")\\\n",
        "    .option(\"spark.synapse.linkedService\", \"<Azure Cosmos DB リンクサービス名>\")\\\n",
        "    .option(\"spark.cosmos.container\", \"Sales\")\\\n",
        "    .mode('append')\\\n",
        "    .save()"
      ]
    },
    {
      "cell_type": "markdown",
      "metadata": {
        "nteract": {
          "transient": {
            "deleting": false
          }
        }
      },
      "source": [
        "## 4. クリーンアップ"
      ]
    },
    {
      "cell_type": "code",
      "execution_count": 15,
      "metadata": {
        "collapsed": false,
        "jupyter": {
          "outputs_hidden": false,
          "source_hidden": false
        },
        "microsoft": {
          "language": "sparksql"
        },
        "nteract": {
          "transient": {
            "deleting": false
          }
        }
      },
      "outputs": [
        {
          "data": {
            "application/vnd.livy.statement-meta+json": {
              "execution_finish_time": "2022-03-27T00:11:18.9195826Z",
              "execution_start_time": "2022-03-27T00:11:18.9192535Z",
              "livy_statement_state": "available",
              "queued_time": "2022-03-27T00:11:13.8686421Z",
              "session_id": 0,
              "session_start_time": null,
              "spark_pool": null,
              "state": "finished",
              "statement_id": -1
            },
            "text/plain": [
              "StatementMeta(, 0, -1, Finished, Available)"
            ]
          },
          "metadata": {},
          "output_type": "display_data"
        },
        {
          "data": {
            "application/vnd.synapse.sparksql-result+json": {
              "data": [],
              "schema": {
                "fields": [],
                "type": "struct"
              }
            },
            "text/plain": [
              "<Spark SQL result set with 0 rows and 0 fields>"
            ]
          },
          "execution_count": 15,
          "metadata": {},
          "output_type": "execute_result"
        },
        {
          "data": {
            "application/vnd.synapse.sparksql-result+json": {
              "data": [],
              "schema": {
                "fields": [],
                "type": "struct"
              }
            },
            "text/plain": [
              "<Spark SQL result set with 0 rows and 0 fields>"
            ]
          },
          "execution_count": 15,
          "metadata": {},
          "output_type": "execute_result"
        }
      ],
      "source": [
        "%%sql\n",
        "DROP VIEW AdventureWorks.SalesOrderStatsView;\n",
        "DROP VIEW AdventureWorks.SalesOrderDetailsView;\n",
        "DROP VIEW AdventureWorks.SalesOrderView;\n",
        "DROP TABLE AdventureWorks.Customers;\n",
        "DROP TABLE AdventureWorks.SalesOrders;\n",
        "DROP DATABASE AdventureWorks CASCADE;"
      ]
    },
    {
      "cell_type": "markdown",
      "metadata": {
        "nteract": {
          "transient": {
            "deleting": false
          }
        }
      },
      "source": [
        "# ↓ デバッグ"
      ]
    },
    {
      "cell_type": "code",
      "execution_count": 93,
      "metadata": {
        "collapsed": false,
        "jupyter": {
          "outputs_hidden": false,
          "source_hidden": false
        },
        "microsoft": {
          "language": "sparksql"
        },
        "nteract": {
          "transient": {
            "deleting": false
          }
        }
      },
      "outputs": [],
      "source": [
        "%%sql\n",
        "SELECT concat(Country[0],'-',replace(City[0],' ','')) AS id, \n",
        "    'SalesOrderStatistic' AS type, '1234' as test_col, *\n",
        "FROM AdventureWorks.SalesOrderStatsView\n",
        "WHERE (Country[0] == 'GB' AND City[0] == 'London') OR (Country[0] == 'AU' AND City[0] == 'Bendigo')"
      ]
    },
    {
      "cell_type": "code",
      "execution_count": 96,
      "metadata": {
        "jupyter": {
          "outputs_hidden": false,
          "source_hidden": false
        },
        "nteract": {
          "transient": {
            "deleting": false
          }
        }
      },
      "outputs": [],
      "source": [
        "demo_df = spark.sql(\"SELECT concat(Country[0],'-',replace(City[0],' ','')) AS id,  \\\n",
        "    'SalesOrderStatistic' AS type, '1234' as test_col, * \\\n",
        "FROM AdventureWorks.SalesOrderStatsView \\\n",
        "WHERE (Country[0] == 'GB' AND City[0] == 'London') OR (Country[0] == 'AU' AND City[0] == 'Bendigo')\")"
      ]
    },
    {
      "cell_type": "code",
      "execution_count": 97,
      "metadata": {
        "jupyter": {
          "outputs_hidden": false,
          "source_hidden": false
        },
        "nteract": {
          "transient": {
            "deleting": false
          }
        }
      },
      "outputs": [],
      "source": [
        "demo_df.write\\\n",
        "    .format(\"cosmos.oltp\")\\\n",
        "    .option(\"spark.synapse.linkedService\", \"demo_synapselink_for_cosmosdb_adventure\")\\\n",
        "    .option(\"spark.cosmos.container\", \"Test\")\\\n",
        "    .mode('append')\\\n",
        "    .save()"
      ]
    }
  ],
  "metadata": {
    "description": "",
    "kernel_info": {
      "name": "synapse_pyspark"
    },
    "kernelspec": {
      "display_name": "Synapse PySpark",
      "language": "Python",
      "name": "synapse_pyspark"
    },
    "language_info": {
      "name": "python"
    },
    "save_output": true,
    "synapse_widget": {
      "state": {
        "354e6cd9-4d57-4890-b58b-00f522e7aaba": {
          "persist_state": {
            "view": {
              "chartOptions": {
                "aggregationType": "sum",
                "categoryFieldKeys": [],
                "chartType": "bar",
                "isStacked": false,
                "seriesFieldKeys": [
                  "2"
                ]
              },
              "tableOptions": {},
              "type": "details"
            }
          },
          "sync_state": {
            "isSummary": false,
            "language": "scala",
            "table": {
              "rows": [
                {
                  "0": [],
                  "1": [],
                  "2": "635"
                },
                {
                  "0": [
                    "GB"
                  ],
                  "1": [
                    "London"
                  ],
                  "2": "420"
                },
                {
                  "0": [
                    "FR"
                  ],
                  "1": [
                    "Paris"
                  ],
                  "2": "386"
                },
                {
                  "0": [
                    "US"
                  ],
                  "1": [
                    "Burien"
                  ],
                  "2": "212"
                },
                {
                  "0": [
                    "US"
                  ],
                  "1": [
                    "Concord"
                  ],
                  "2": "212"
                },
                {
                  "0": [
                    "US"
                  ],
                  "1": [
                    "Bellingham"
                  ],
                  "2": "210"
                },
                {
                  "0": [
                    "US"
                  ],
                  "1": [
                    "Beaverton"
                  ],
                  "2": "210"
                },
                {
                  "0": [
                    "US"
                  ],
                  "1": [
                    "Chula Vista"
                  ],
                  "2": "206"
                },
                {
                  "0": [
                    "US"
                  ],
                  "1": [
                    "Berkeley"
                  ],
                  "2": "200"
                },
                {
                  "0": [
                    "US"
                  ],
                  "1": [
                    "Burlingame"
                  ],
                  "2": "198"
                }
              ],
              "schema": [
                {
                  "key": "0",
                  "name": "country",
                  "type": "ArrayType(StringType,true)"
                },
                {
                  "key": "1",
                  "name": "city",
                  "type": "ArrayType(StringType,true)"
                },
                {
                  "key": "2",
                  "name": "count",
                  "type": "bigint"
                }
              ],
              "truncated": false
            }
          },
          "type": "Synapse.DataFrame"
        },
        "407a74b1-f79f-4ca9-ab7c-7080be8a06c6": {
          "persist_state": {
            "view": {
              "chartOptions": {
                "aggregationType": "count",
                "categoryFieldKeys": [
                  "0"
                ],
                "chartType": "bar",
                "isStacked": false,
                "seriesFieldKeys": [
                  "0"
                ]
              },
              "tableOptions": {},
              "type": "details"
            }
          },
          "sync_state": {
            "isSummary": false,
            "language": "scala",
            "table": {
              "rows": [
                {
                  "0": "Franklin",
                  "1": {
                    "hash": "ok8pzJ4Ha9Ecbs5vJmRRngyfNVdaoNdN/lizSYK2Aoc=",
                    "salt": "916AB986"
                  },
                  "2": [
                    {
                      "addressLine1": "12, route de Marseille",
                      "addressLine2": "",
                      "city": "Colombes",
                      "country": "FR",
                      "state": "92 ",
                      "zipCode": "92700"
                    }
                  ],
                  "3": "185AAAD0-9401-4E40-8F20-DEAD4F45BF5B",
                  "4": "2012-09-02T00:00:00",
                  "5": "Sharma",
                  "6": "franklin27@adventure-works.com",
                  "7": "1 (11) 500 555-0191",
                  "8": ""
                },
                {
                  "0": "Tony",
                  "1": {
                    "hash": "LH8bodCqViA2Y+joI2pkEtcU7Jafp4frA/KI8YIYWx0=",
                    "salt": "67288636"
                  },
                  "2": [
                    {
                      "addressLine1": "2470 Indianhead Circle",
                      "addressLine2": "",
                      "city": "Geelong",
                      "country": "AU",
                      "state": "VIC",
                      "zipCode": "3220"
                    }
                  ],
                  "3": "163D559F-A37F-4046-ADCD-CE4E1B4753A7",
                  "4": "2012-02-18T00:00:00",
                  "5": "Kumar",
                  "6": "tony10@adventure-works.com",
                  "7": "1 (11) 500 555-0196",
                  "8": ""
                },
                {
                  "0": "Miguel",
                  "1": {
                    "hash": "ZHkQUxJ4IJTLWAVNUS+/pEiigjTmavXdTuYrsOneRFA=",
                    "salt": "6D2EFCE9"
                  },
                  "2": [
                    {
                      "addressLine1": "5402 Panorama Drive",
                      "addressLine2": "",
                      "city": "Glendale",
                      "country": "US",
                      "state": "CA ",
                      "zipCode": "91203"
                    }
                  ],
                  "3": "155B1CD2-DB1A-469B-A14D-C55CB4CE6EE8",
                  "4": "2013-09-12T00:00:00",
                  "5": "Williams",
                  "6": "miguel1@adventure-works.com",
                  "7": "205-555-0175",
                  "8": ""
                },
                {
                  "0": "Rafael",
                  "1": {
                    "hash": "WuvI6a/0Gxvaqq0hOOt7KLxz4ujc+8zKbh8Jj7N9QXI=",
                    "salt": "72EF1A42"
                  },
                  "2": [
                    {
                      "addressLine1": "6393 Tuolumne Way",
                      "addressLine2": "",
                      "city": "Burlingame",
                      "country": "US",
                      "state": "CA ",
                      "zipCode": "94010"
                    }
                  ],
                  "3": "144BEE89-24EA-44D0-9201-7F071842FF95",
                  "4": "2014-05-13T00:00:00",
                  "5": "Zhu",
                  "6": "rafael15@adventure-works.com",
                  "7": "949-555-0122",
                  "8": ""
                },
                {
                  "0": "Maria",
                  "1": {
                    "hash": "JPEJHgqqDfRx4TdLO9T/TRXiTDJWTQNsj6n1Lb67F4Q=",
                    "salt": "CB7311C9"
                  },
                  "2": [
                    {
                      "addressLine1": "1688 Sudan Loop",
                      "addressLine2": "",
                      "city": "Bendigo",
                      "country": "AU",
                      "state": "VIC",
                      "zipCode": "3550"
                    }
                  ],
                  "3": "138F9D1F-61C4-4372-A814-D77646B9C08F",
                  "4": "2013-06-01T00:00:00",
                  "5": "King",
                  "6": "maria60@adventure-works.com",
                  "7": "1 (11) 500 555-0124",
                  "8": ""
                },
                {
                  "0": "Steven",
                  "1": {
                    "hash": "5m5eeE0OeZzcubIwqIv1OfnIc6iOM8SPHXPGY5IXCLs=",
                    "salt": "FEC3463C"
                  },
                  "2": [],
                  "3": "12959E06-905C-445A-AC07-244CBFC614DF",
                  "4": "2011-08-01T00:00:00",
                  "5": "Brown",
                  "6": "steven1@adventure-works.com",
                  "7": "280-555-0124",
                  "8": "Mr."
                },
                {
                  "0": "Chad",
                  "1": {
                    "hash": "PM8G2HRU3sEFolCKRAY7yVkk3q/Sf65N1dNfUY5gsM4=",
                    "salt": "BCB95A56"
                  },
                  "2": [
                    {
                      "addressLine1": "Wertheimer Straße 998",
                      "addressLine2": "",
                      "city": "Berlin",
                      "country": "DE",
                      "state": "NW ",
                      "zipCode": "10501"
                    }
                  ],
                  "3": "113A6375-19FB-443D-B79F-02CCE5B59E06",
                  "4": "2013-12-31T00:00:00",
                  "5": "Nara",
                  "6": "chad17@adventure-works.com",
                  "7": "1 (11) 500 555-0179",
                  "8": ""
                },
                {
                  "0": "Sophia",
                  "1": {
                    "hash": "M+LN24NH+k4ytyJff1mV0h3lUk2uQWobDU3YDu5s6XA=",
                    "salt": "1AEB9156"
                  },
                  "2": [
                    {
                      "addressLine1": "1506 St. George Court",
                      "addressLine2": "",
                      "city": "Victoria",
                      "country": "CA",
                      "state": "BC ",
                      "zipCode": "V8V"
                    }
                  ],
                  "3": "10914933-F140-4D98-9F68-08A7DBB7FEE7",
                  "4": "2012-06-12T00:00:00",
                  "5": "Green",
                  "6": "sophia14@adventure-works.com",
                  "7": "138-555-0167",
                  "8": ""
                },
                {
                  "0": "Nancy",
                  "1": {
                    "hash": "OnRRJwH9TRdoIvpfm3SFNZpX9Yapynl15/calyc+jHQ=",
                    "salt": "1164C13A"
                  },
                  "2": [
                    {
                      "addressLine1": "5021 Rio Grande Drive",
                      "addressLine2": "",
                      "city": "Silverwater",
                      "country": "AU",
                      "state": "NSW",
                      "zipCode": "2264"
                    }
                  ],
                  "3": "19B19776-CE61-458E-93A7-72CCEFAB6772",
                  "4": "2011-09-04T00:00:00",
                  "5": "Mehta",
                  "6": "nancy17@adventure-works.com",
                  "7": "1 (11) 500 555-0161",
                  "8": ""
                },
                {
                  "0": "Caitlin",
                  "1": {
                    "hash": "wPUB1+ZbYknPh7E8KTnj7ucv4v21CdDEbLkKKcXzSMo=",
                    "salt": "F44FBA42"
                  },
                  "2": [
                    {
                      "addressLine1": "3258 Marsh Meadow Way",
                      "addressLine2": "",
                      "city": "Seattle",
                      "country": "US",
                      "state": "WA ",
                      "zipCode": "98104"
                    }
                  ],
                  "3": "18736D7A-62D4-409A-9BD3-74FA15B3D3B5",
                  "4": "2014-02-06T00:00:00",
                  "5": "Stewart",
                  "6": "caitlin20@adventure-works.com",
                  "7": "277-555-0153",
                  "8": ""
                }
              ],
              "schema": [
                {
                  "key": "0",
                  "name": "firstName",
                  "type": "string"
                },
                {
                  "key": "1",
                  "name": "password",
                  "type": "StructType(StructField(hash,StringType,true), StructField(salt,StringType,true))"
                },
                {
                  "key": "2",
                  "name": "addresses",
                  "type": "ArrayType(StructType(StructField(addressLine1,StringType,true), StructField(addressLine2,StringType,true), StructField(city,StringType,true), StructField(state,StringType,true), StructField(country,StringType,true), StructField(zipCode,StringType,true)),true)"
                },
                {
                  "key": "3",
                  "name": "id",
                  "type": "string"
                },
                {
                  "key": "4",
                  "name": "creationDate",
                  "type": "string"
                },
                {
                  "key": "5",
                  "name": "lastName",
                  "type": "string"
                },
                {
                  "key": "6",
                  "name": "emailAddress",
                  "type": "string"
                },
                {
                  "key": "7",
                  "name": "phoneNumber",
                  "type": "string"
                },
                {
                  "key": "8",
                  "name": "title",
                  "type": "string"
                }
              ],
              "truncated": false
            }
          },
          "type": "Synapse.DataFrame"
        },
        "cd5f2f5b-3cbc-4d52-8622-af9d76318c7d": {
          "persist_state": {
            "view": {
              "chartOptions": {
                "aggregationType": "sum",
                "categoryFieldKeys": [
                  "0"
                ],
                "chartType": "bar",
                "isStacked": false,
                "seriesFieldKeys": [
                  "1"
                ]
              },
              "tableOptions": {},
              "type": "details"
            }
          },
          "sync_state": {
            "isSummary": false,
            "language": "scala",
            "table": {
              "rows": [
                {
                  "0": "Dp11ANjntgABAAAAAAAAAA==",
                  "1": "1648337529",
                  "2": "185AAAD0-9401-4E40-8F20-DEAD4F45BF5B",
                  "3": "",
                  "4": "Franklin",
                  "5": "Sharma",
                  "6": "franklin27@adventure-works.com",
                  "7": "1 (11) 500 555-0191",
                  "8": "2012-09-02T00:00:00",
                  "9": [
                    {
                      "addressLine1": "12, route de Marseille",
                      "addressLine2": "",
                      "city": "Colombes",
                      "country": "FR",
                      "state": "92 ",
                      "zipCode": "92700"
                    }
                  ],
                  "10": {
                    "hash": "ok8pzJ4Ha9Ecbs5vJmRRngyfNVdaoNdN/lizSYK2Aoc=",
                    "salt": "916AB986"
                  },
                  "11": "\"57014ec7-0000-2300-0000-623fa2790000\""
                },
                {
                  "0": "Dp11ANjntgACAAAAAAAAAA==",
                  "1": "1648337529",
                  "2": "163D559F-A37F-4046-ADCD-CE4E1B4753A7",
                  "3": "",
                  "4": "Tony",
                  "5": "Kumar",
                  "6": "tony10@adventure-works.com",
                  "7": "1 (11) 500 555-0196",
                  "8": "2012-02-18T00:00:00",
                  "9": [
                    {
                      "addressLine1": "2470 Indianhead Circle",
                      "addressLine2": "",
                      "city": "Geelong",
                      "country": "AU",
                      "state": "VIC",
                      "zipCode": "3220"
                    }
                  ],
                  "10": {
                    "hash": "LH8bodCqViA2Y+joI2pkEtcU7Jafp4frA/KI8YIYWx0=",
                    "salt": "67288636"
                  },
                  "11": "\"57014fc7-0000-2300-0000-623fa2790000\""
                },
                {
                  "0": "Dp11ANjntgADAAAAAAAAAA==",
                  "1": "1648337529",
                  "2": "155B1CD2-DB1A-469B-A14D-C55CB4CE6EE8",
                  "3": "",
                  "4": "Miguel",
                  "5": "Williams",
                  "6": "miguel1@adventure-works.com",
                  "7": "205-555-0175",
                  "8": "2013-09-12T00:00:00",
                  "9": [
                    {
                      "addressLine1": "5402 Panorama Drive",
                      "addressLine2": "",
                      "city": "Glendale",
                      "country": "US",
                      "state": "CA ",
                      "zipCode": "91203"
                    }
                  ],
                  "10": {
                    "hash": "ZHkQUxJ4IJTLWAVNUS+/pEiigjTmavXdTuYrsOneRFA=",
                    "salt": "6D2EFCE9"
                  },
                  "11": "\"570150c7-0000-2300-0000-623fa2790000\""
                },
                {
                  "0": "Dp11ANjntgAEAAAAAAAAAA==",
                  "1": "1648337529",
                  "2": "144BEE89-24EA-44D0-9201-7F071842FF95",
                  "3": "",
                  "4": "Rafael",
                  "5": "Zhu",
                  "6": "rafael15@adventure-works.com",
                  "7": "949-555-0122",
                  "8": "2014-05-13T00:00:00",
                  "9": [
                    {
                      "addressLine1": "6393 Tuolumne Way",
                      "addressLine2": "",
                      "city": "Burlingame",
                      "country": "US",
                      "state": "CA ",
                      "zipCode": "94010"
                    }
                  ],
                  "10": {
                    "hash": "WuvI6a/0Gxvaqq0hOOt7KLxz4ujc+8zKbh8Jj7N9QXI=",
                    "salt": "72EF1A42"
                  },
                  "11": "\"570151c7-0000-2300-0000-623fa2790000\""
                },
                {
                  "0": "Dp11ANjntgAFAAAAAAAAAA==",
                  "1": "1648337529",
                  "2": "138F9D1F-61C4-4372-A814-D77646B9C08F",
                  "3": "",
                  "4": "Maria",
                  "5": "King",
                  "6": "maria60@adventure-works.com",
                  "7": "1 (11) 500 555-0124",
                  "8": "2013-06-01T00:00:00",
                  "9": [
                    {
                      "addressLine1": "1688 Sudan Loop",
                      "addressLine2": "",
                      "city": "Bendigo",
                      "country": "AU",
                      "state": "VIC",
                      "zipCode": "3550"
                    }
                  ],
                  "10": {
                    "hash": "JPEJHgqqDfRx4TdLO9T/TRXiTDJWTQNsj6n1Lb67F4Q=",
                    "salt": "CB7311C9"
                  },
                  "11": "\"570152c7-0000-2300-0000-623fa2790000\""
                },
                {
                  "0": "Dp11ANjntgAGAAAAAAAAAA==",
                  "1": "1648337529",
                  "2": "12959E06-905C-445A-AC07-244CBFC614DF",
                  "3": "Mr.",
                  "4": "Steven",
                  "5": "Brown",
                  "6": "steven1@adventure-works.com",
                  "7": "280-555-0124",
                  "8": "2011-08-01T00:00:00",
                  "9": [],
                  "10": {
                    "hash": "5m5eeE0OeZzcubIwqIv1OfnIc6iOM8SPHXPGY5IXCLs=",
                    "salt": "FEC3463C"
                  },
                  "11": "\"570153c7-0000-2300-0000-623fa2790000\""
                },
                {
                  "0": "Dp11ANjntgAHAAAAAAAAAA==",
                  "1": "1648337529",
                  "2": "113A6375-19FB-443D-B79F-02CCE5B59E06",
                  "3": "",
                  "4": "Chad",
                  "5": "Nara",
                  "6": "chad17@adventure-works.com",
                  "7": "1 (11) 500 555-0179",
                  "8": "2013-12-31T00:00:00",
                  "9": [
                    {
                      "addressLine1": "Wertheimer Straße 998",
                      "addressLine2": "",
                      "city": "Berlin",
                      "country": "DE",
                      "state": "NW ",
                      "zipCode": "10501"
                    }
                  ],
                  "10": {
                    "hash": "PM8G2HRU3sEFolCKRAY7yVkk3q/Sf65N1dNfUY5gsM4=",
                    "salt": "BCB95A56"
                  },
                  "11": "\"570154c7-0000-2300-0000-623fa2790000\""
                },
                {
                  "0": "Dp11ANjntgAIAAAAAAAAAA==",
                  "1": "1648337529",
                  "2": "10914933-F140-4D98-9F68-08A7DBB7FEE7",
                  "3": "",
                  "4": "Sophia",
                  "5": "Green",
                  "6": "sophia14@adventure-works.com",
                  "7": "138-555-0167",
                  "8": "2012-06-12T00:00:00",
                  "9": [
                    {
                      "addressLine1": "1506 St. George Court",
                      "addressLine2": "",
                      "city": "Victoria",
                      "country": "CA",
                      "state": "BC ",
                      "zipCode": "V8V"
                    }
                  ],
                  "10": {
                    "hash": "M+LN24NH+k4ytyJff1mV0h3lUk2uQWobDU3YDu5s6XA=",
                    "salt": "1AEB9156"
                  },
                  "11": "\"570155c7-0000-2300-0000-623fa2790000\""
                },
                {
                  "0": "Dp11ANjntgAJAAAAAAAAAA==",
                  "1": "1648337529",
                  "2": "19B19776-CE61-458E-93A7-72CCEFAB6772",
                  "3": "",
                  "4": "Nancy",
                  "5": "Mehta",
                  "6": "nancy17@adventure-works.com",
                  "7": "1 (11) 500 555-0161",
                  "8": "2011-09-04T00:00:00",
                  "9": [
                    {
                      "addressLine1": "5021 Rio Grande Drive",
                      "addressLine2": "",
                      "city": "Silverwater",
                      "country": "AU",
                      "state": "NSW",
                      "zipCode": "2264"
                    }
                  ],
                  "10": {
                    "hash": "OnRRJwH9TRdoIvpfm3SFNZpX9Yapynl15/calyc+jHQ=",
                    "salt": "1164C13A"
                  },
                  "11": "\"570156c7-0000-2300-0000-623fa2790000\""
                },
                {
                  "0": "Dp11ANjntgAKAAAAAAAAAA==",
                  "1": "1648337529",
                  "2": "18736D7A-62D4-409A-9BD3-74FA15B3D3B5",
                  "3": "",
                  "4": "Caitlin",
                  "5": "Stewart",
                  "6": "caitlin20@adventure-works.com",
                  "7": "277-555-0153",
                  "8": "2014-02-06T00:00:00",
                  "9": [
                    {
                      "addressLine1": "3258 Marsh Meadow Way",
                      "addressLine2": "",
                      "city": "Seattle",
                      "country": "US",
                      "state": "WA ",
                      "zipCode": "98104"
                    }
                  ],
                  "10": {
                    "hash": "wPUB1+ZbYknPh7E8KTnj7ucv4v21CdDEbLkKKcXzSMo=",
                    "salt": "F44FBA42"
                  },
                  "11": "\"570157c7-0000-2300-0000-623fa2790000\""
                }
              ],
              "schema": [
                {
                  "key": "0",
                  "name": "_rid",
                  "type": "string"
                },
                {
                  "key": "1",
                  "name": "_ts",
                  "type": "bigint"
                },
                {
                  "key": "2",
                  "name": "id",
                  "type": "string"
                },
                {
                  "key": "3",
                  "name": "title",
                  "type": "string"
                },
                {
                  "key": "4",
                  "name": "firstName",
                  "type": "string"
                },
                {
                  "key": "5",
                  "name": "lastName",
                  "type": "string"
                },
                {
                  "key": "6",
                  "name": "emailAddress",
                  "type": "string"
                },
                {
                  "key": "7",
                  "name": "phoneNumber",
                  "type": "string"
                },
                {
                  "key": "8",
                  "name": "creationDate",
                  "type": "string"
                },
                {
                  "key": "9",
                  "name": "addresses",
                  "type": "ArrayType(StructType(StructField(addressLine1,StringType,true), StructField(addressLine2,StringType,true), StructField(city,StringType,true), StructField(state,StringType,true), StructField(country,StringType,true), StructField(zipCode,StringType,true)),true)"
                },
                {
                  "key": "10",
                  "name": "password",
                  "type": "StructType(StructField(hash,StringType,true), StructField(salt,StringType,true))"
                },
                {
                  "key": "11",
                  "name": "_etag",
                  "type": "string"
                }
              ],
              "truncated": false
            }
          },
          "type": "Synapse.DataFrame"
        },
        "dcd71fa7-6697-4c70-a5ad-5767f4d39ec1": {
          "persist_state": {
            "view": {
              "chartOptions": {
                "aggregationType": "count",
                "categoryFieldKeys": [
                  "0"
                ],
                "chartType": "bar",
                "isStacked": false,
                "seriesFieldKeys": [
                  "0"
                ]
              },
              "tableOptions": {},
              "type": "details"
            }
          },
          "sync_state": {
            "isSummary": false,
            "language": "scala",
            "table": {
              "rows": [
                {
                  "0": "7BC1BE8F-F080-4386-A2FA-039FE73F3A84",
                  "1": "2012-11-10T00:00:00",
                  "2": "B5BC6AEB-8FAE-47EB-9975-6B9628ED7152",
                  "3": [
                    {
                      "name": "Road-250 Black, 52",
                      "price": 2181.5625,
                      "quantity": 1,
                      "sku": "BK-R89B-52"
                    }
                  ],
                  "4": "2012-11-17T00:00:00"
                },
                {
                  "0": "2A7FD41A-739A-4A80-8268-B2E7AD20E19A",
                  "1": "2014-04-19T00:00:00",
                  "2": "B415C321-D80F-4B09-925B-67786BAAD70C",
                  "3": [
                    {
                      "name": "Sport-100 Helmet, Red",
                      "price": 34.99,
                      "quantity": 1,
                      "sku": "HL-U509-R"
                    },
                    {
                      "name": "Road-350-W Yellow, 48",
                      "price": 1700.99,
                      "quantity": 1,
                      "sku": "BK-R79Y-48"
                    }
                  ],
                  "4": "2014-04-26T00:00:00"
                },
                {
                  "0": "C7835E80-E071-40E6-AB5C-19770A9AE2CF",
                  "1": "2014-01-04T00:00:00",
                  "2": "B2CC7D24-4277-44EE-A226-849833ECC70D",
                  "3": [
                    {
                      "name": "Half-Finger Gloves, S",
                      "price": 24.49,
                      "quantity": 1,
                      "sku": "GL-H102-S"
                    },
                    {
                      "name": "LL Mountain Tire",
                      "price": 24.99,
                      "quantity": 1,
                      "sku": "TI-M267"
                    }
                  ],
                  "4": "2014-01-11T00:00:00"
                },
                {
                  "0": "94EA4DD2-6D2D-4841-AA13-33D5E635BDD3",
                  "1": "2014-05-06T00:00:00",
                  "2": "B10FFBF7-70D4-4E33-BB60-65610C868144",
                  "3": [
                    {
                      "name": "LL Mountain Tire",
                      "price": 24.99,
                      "quantity": 1,
                      "sku": "TI-M267"
                    }
                  ],
                  "4": "2014-05-13T00:00:00"
                },
                {
                  "0": "EF4C6521-5CE5-44BE-B290-96D3DA1EC22B",
                  "1": "2014-04-14T00:00:00",
                  "2": "B0603805-0899-4CF8-B4A2-EE5145297795",
                  "3": [
                    {
                      "name": "LL Road Tire",
                      "price": 21.49,
                      "quantity": 1,
                      "sku": "TI-R092"
                    },
                    {
                      "name": "Road Tire Tube",
                      "price": 3.99,
                      "quantity": 1,
                      "sku": "TT-R982"
                    }
                  ],
                  "4": "2014-04-21T00:00:00"
                },
                {
                  "0": "13F07AB8-A9F7-4896-927D-D7CB3EEFC1D7",
                  "1": "2013-07-15T00:00:00",
                  "2": "AE32D028-A012-41DB-959B-F4E7116B26FD",
                  "3": [
                    {
                      "name": "Fender Set - Mountain",
                      "price": 21.98,
                      "quantity": 1,
                      "sku": "FE-6654"
                    },
                    {
                      "name": "All-Purpose Bike Stand",
                      "price": 159,
                      "quantity": 1,
                      "sku": "ST-1401"
                    },
                    {
                      "name": "Bike Wash - Dissolver",
                      "price": 7.95,
                      "quantity": 1,
                      "sku": "CL-9009"
                    }
                  ],
                  "4": "2013-07-22T00:00:00"
                },
                {
                  "0": "D15C5235-530D-4BEB-857E-A12843FAAF28",
                  "1": "2014-04-29T00:00:00",
                  "2": "AC591C35-4D87-4623-AC29-166F75E12931",
                  "3": [
                    {
                      "name": "HL Mountain Tire",
                      "price": 35,
                      "quantity": 1,
                      "sku": "TI-M823"
                    }
                  ],
                  "4": "2014-05-06T00:00:00"
                },
                {
                  "0": "C7A8AE9C-49B7-4C70-8A38-F1723FC3789C",
                  "1": "2013-11-27T00:00:00",
                  "2": "AA8F9CED-F469-48A6-ACE8-EBA695CA93D2",
                  "3": [
                    {
                      "name": "Mountain-500 Black, 52",
                      "price": 539.99,
                      "quantity": 1,
                      "sku": "BK-M18B-52"
                    }
                  ],
                  "4": "2013-12-04T00:00:00"
                },
                {
                  "0": "B0241DAE-564E-4315-A0FA-D516BD2342DE",
                  "1": "2013-12-04T00:00:00",
                  "2": "A7FFD5FF-E4AB-4F8E-B59C-A93E6BEB52EF",
                  "3": [
                    {
                      "name": "Long-Sleeve Logo Jersey, L",
                      "price": 49.99,
                      "quantity": 1,
                      "sku": "LJ-0192-L"
                    }
                  ],
                  "4": "2013-12-11T00:00:00"
                },
                {
                  "0": "4E646582-3537-4085-8754-101D34DEF75E",
                  "1": "2014-03-16T00:00:00",
                  "2": "A69267C0-D165-431B-B436-56A7E2B263F2",
                  "3": [
                    {
                      "name": "Mountain Tire Tube",
                      "price": 4.99,
                      "quantity": 1,
                      "sku": "TT-M928"
                    },
                    {
                      "name": "Patch Kit/8 Patches",
                      "price": 2.29,
                      "quantity": 1,
                      "sku": "PK-7098"
                    }
                  ],
                  "4": "2014-03-23T00:00:00"
                }
              ],
              "schema": [
                {
                  "key": "0",
                  "name": "customerId",
                  "type": "string"
                },
                {
                  "key": "1",
                  "name": "orderDate",
                  "type": "string"
                },
                {
                  "key": "2",
                  "name": "id",
                  "type": "string"
                },
                {
                  "key": "3",
                  "name": "details",
                  "type": "ArrayType(StructType(StructField(sku,StringType,true), StructField(name,StringType,true), StructField(price,DoubleType,true), StructField(quantity,LongType,true)),true)"
                },
                {
                  "key": "4",
                  "name": "shipDate",
                  "type": "string"
                }
              ],
              "truncated": false
            }
          },
          "type": "Synapse.DataFrame"
        }
      },
      "version": "0.1"
    }
  },
  "nbformat": 4,
  "nbformat_minor": 2
}
